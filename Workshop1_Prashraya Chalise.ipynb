{
  "nbformat": 4,
  "nbformat_minor": 0,
  "metadata": {
    "colab": {
      "provenance": []
    },
    "kernelspec": {
      "name": "python3",
      "display_name": "Python 3"
    },
    "language_info": {
      "name": "python"
    }
  },
  "cells": [
    {
      "cell_type": "markdown",
      "source": [
        "#QUESTION1\n",
        "Complete the following Tasks:\n",
        "1. Initialize an empty array with size 2X2.\n",
        "2. Initialize an all one array with size 4X2.\n",
        "3. Return a new array of given shape and type, filled with fill value.{Hint: np.full}\n",
        "4. Return a new array of zeros with same shape and type as a given array.{Hint: np.zeros like}\n",
        "5. Return a new array of ones with same shape and type as a given array.{Hint: np.ones like}\n",
        "6. For an existing list new_list = [1,2,3,4] convert to an numpy array.{Hint: np.array()}"
      ],
      "metadata": {
        "id": "CsYoCYfNN9wx"
      }
    },
    {
      "cell_type": "code",
      "source": [
        "import numpy as np\n",
        "\n",
        "# Task 1:\n",
        "empty_array = np.empty((2, 2))\n",
        "print(\"Task 1 - Empty Array:\\n\", empty_array)\n",
        "\n",
        "# Task 2:\n",
        "ones_array = np.ones((4, 2))\n",
        "print(\"\\nTask 2 - All Ones Array:\\n\", ones_array)\n",
        "\n",
        "# Task 3:\n",
        "fill_value_array = np.full((3, 3), 7)  # Example shape and fill value\n",
        "print(\"\\nTask 3 - Array Filled with 7s:\\n\", fill_value_array)\n",
        "\n",
        "# Task 4:\n",
        "given_array = np.array([[5, 6], [7, 8]])  # Example given array\n",
        "zeros_like_array = np.zeros_like(given_array)\n",
        "print(\"\\nTask 4 - Zeros Array with Same Shape as Given Array:\\n\", zeros_like_array)\n",
        "\n",
        "# Task 5:\n",
        "ones_like_array = np.ones_like(given_array)\n",
        "print(\"\\nTask 5 - Ones Array with Same Shape as Given Array:\\n\", ones_like_array)\n",
        "\n",
        "# Task 6:\n",
        "new_list = [1, 2, 3, 4]\n",
        "numpy_array = np.array(new_list)\n",
        "print(\"\\nTask 6 - Converted Numpy Array:\\n\", numpy_array)\n"
      ],
      "metadata": {
        "colab": {
          "base_uri": "https://localhost:8080/"
        },
        "id": "x6_yofs7OEuJ",
        "outputId": "ce7a2be5-517b-456a-b7e4-29917ffc9a47"
      },
      "execution_count": null,
      "outputs": [
        {
          "output_type": "stream",
          "name": "stdout",
          "text": [
            "Task 1 - Empty Array:\n",
            " [[4.82158145e-310 0.00000000e+000]\n",
            " [2.83895655e+253 6.93861461e-310]]\n",
            "\n",
            "Task 2 - All Ones Array:\n",
            " [[1. 1.]\n",
            " [1. 1.]\n",
            " [1. 1.]\n",
            " [1. 1.]]\n",
            "\n",
            "Task 3 - Array Filled with 7s:\n",
            " [[7 7 7]\n",
            " [7 7 7]\n",
            " [7 7 7]]\n",
            "\n",
            "Task 4 - Zeros Array with Same Shape as Given Array:\n",
            " [[0 0]\n",
            " [0 0]]\n",
            "\n",
            "Task 5 - Ones Array with Same Shape as Given Array:\n",
            " [[1 1]\n",
            " [1 1]]\n",
            "\n",
            "Task 6 - Converted Numpy Array:\n",
            " [1 2 3 4]\n"
          ]
        }
      ]
    },
    {
      "cell_type": "markdown",
      "source": [
        "#QUESTION2\n",
        "1. Create an array with values ranging from 10 to 49. {Hint:np.arrange()}.\n",
        "2. Create a 3X3 matrix with values ranging from 0 to 8.\n",
        "{Hint:look for np.reshape()}\n",
        "3. Create a 3X3 identity matrix.{Hint:np.eye()}\n",
        "4. Create a random array of size 30 and find the mean of the array.\n",
        "{Hint:check for np.random.random() and array.mean() function}\n",
        "5. Create a 10X10 array with random values and find the minimum and maximum values.\n",
        "6. Create a zero array of size 10 and replace 5th element with 1.\n",
        "7. Reverse an array arr = [1,2,0,0,4,0].\n",
        "8. Create a 2d array with 1 on border and 0 inside.\n",
        "9. Create a 8X8 matrix and fill it with a checkerboard pattern."
      ],
      "metadata": {
        "id": "0x3oOLutOXtU"
      }
    },
    {
      "cell_type": "code",
      "source": [
        "import numpy as np\n",
        "\n",
        "# Task 1:\n",
        "array_10_to_49 = np.arange(10, 50)\n",
        "print(\"Task 1 - Array from 10 to 49:\\n\", array_10_to_49)\n",
        "\n",
        "# Task 2:\n",
        "matrix_3x3 = np.arange(9).reshape((3, 3))\n",
        "print(\"\\nTask 2 - 3x3 Matrix with Values 0 to 8:\\n\", matrix_3x3)\n",
        "\n",
        "# Task 3:\n",
        "identity_matrix = np.eye(3)\n",
        "print(\"\\nTask 3 - 3x3 Identity Matrix:\\n\", identity_matrix)\n",
        "\n",
        "# Task 4:\n",
        "random_array = np.random.random(30)\n",
        "mean_value = random_array.mean()\n",
        "print(\"\\nTask 4 - Mean of Random Array:\\n\", mean_value)\n",
        "\n",
        "# Task 5:\n",
        "random_10x10 = np.random.random((10, 10))\n",
        "min_value = random_10x10.min()\n",
        "max_value = random_10x10.max()\n",
        "print(\"\\nTask 5 - Min and Max of 10x10 Random Array:\\nMin:\", min_value, \"Max:\", max_value)\n",
        "\n",
        "# Task 6:\n",
        "zero_array = np.zeros(10)\n",
        "zero_array[4] = 1\n",
        "print(\"\\nTask 6 - Zero Array with 5th Element as 1:\\n\", zero_array)\n",
        "\n",
        "# Task 7:\n",
        "arr = [1, 2, 0, 0, 4, 0]\n",
        "reversed_array = np.array(arr)[::-1]\n",
        "print(\"\\nTask 7 - Reversed Array:\\n\", reversed_array)\n",
        "\n",
        "# Task 8:\n",
        "border_array = np.ones((5, 5))\n",
        "border_array[1:-1, 1:-1] = 0\n",
        "print(\"\\nTask 8 - 2D Array with Border 1 and Inside 0:\\n\", border_array)\n",
        "\n",
        "# Task 9:\n",
        "checkerboard = np.zeros((8, 8), dtype=int)\n",
        "checkerboard[1::2, ::2] = 1\n",
        "checkerboard[::2, 1::2] = 1\n",
        "print(\"\\nTask 9 - Checkerboard Pattern:\\n\", checkerboard)\n"
      ],
      "metadata": {
        "colab": {
          "base_uri": "https://localhost:8080/"
        },
        "id": "FffdsnkpO17h",
        "outputId": "92c9df11-1823-4495-c379-8422e1f0e669"
      },
      "execution_count": null,
      "outputs": [
        {
          "output_type": "stream",
          "name": "stdout",
          "text": [
            "Task 1 - Array from 10 to 49:\n",
            " [10 11 12 13 14 15 16 17 18 19 20 21 22 23 24 25 26 27 28 29 30 31 32 33\n",
            " 34 35 36 37 38 39 40 41 42 43 44 45 46 47 48 49]\n",
            "\n",
            "Task 2 - 3x3 Matrix with Values 0 to 8:\n",
            " [[0 1 2]\n",
            " [3 4 5]\n",
            " [6 7 8]]\n",
            "\n",
            "Task 3 - 3x3 Identity Matrix:\n",
            " [[1. 0. 0.]\n",
            " [0. 1. 0.]\n",
            " [0. 0. 1.]]\n",
            "\n",
            "Task 4 - Mean of Random Array:\n",
            " 0.5165125015654222\n",
            "\n",
            "Task 5 - Min and Max of 10x10 Random Array:\n",
            "Min: 0.004999273183128206 Max: 0.9810637744977018\n",
            "\n",
            "Task 6 - Zero Array with 5th Element as 1:\n",
            " [0. 0. 0. 0. 1. 0. 0. 0. 0. 0.]\n",
            "\n",
            "Task 7 - Reversed Array:\n",
            " [0 4 0 0 2 1]\n",
            "\n",
            "Task 8 - 2D Array with Border 1 and Inside 0:\n",
            " [[1. 1. 1. 1. 1.]\n",
            " [1. 0. 0. 0. 1.]\n",
            " [1. 0. 0. 0. 1.]\n",
            " [1. 0. 0. 0. 1.]\n",
            " [1. 1. 1. 1. 1.]]\n",
            "\n",
            "Task 9 - Checkerboard Pattern:\n",
            " [[0 1 0 1 0 1 0 1]\n",
            " [1 0 1 0 1 0 1 0]\n",
            " [0 1 0 1 0 1 0 1]\n",
            " [1 0 1 0 1 0 1 0]\n",
            " [0 1 0 1 0 1 0 1]\n",
            " [1 0 1 0 1 0 1 0]\n",
            " [0 1 0 1 0 1 0 1]\n",
            " [1 0 1 0 1 0 1 0]]\n"
          ]
        }
      ]
    },
    {
      "cell_type": "markdown",
      "source": [
        "#QUESTION3\n",
        "For the following arrays:\n",
        "x = np.array([[1,2],[3,5]]) and y = np.array([[5,6],[7,8]]);\n",
        "v = np.array([9,10]) and w = np.array([11,12]);\n",
        "Complete all the task using numpy:\n",
        "1. Add the two array.\n",
        "2. Subtract the two array.\n",
        "3. Multiply the array with any integers of your choice.\n",
        "4. Find the square of each element of the array.\n",
        "5. Find the dot product between: v(and)w ; x(and)v ; x(and)y.\n",
        "6. Concatenate x(and)y along row and Concatenate v(and)w along column.\n",
        "{Hint:try np.concatenate() or np.vstack() functions.\n",
        "7. Concatenate x(and)v; if you get an error, observe and explain why did you get the error?"
      ],
      "metadata": {
        "id": "_SyAApoiPIIj"
      }
    },
    {
      "cell_type": "code",
      "source": [
        "import numpy as np\n",
        "\n",
        "# Given arrays\n",
        "x = np.array([[1, 2], [3, 5]])\n",
        "y = np.array([[5, 6], [7, 8]])\n",
        "v = np.array([9, 10])\n",
        "w = np.array([11, 12])\n",
        "\n",
        "# Task 1:\n",
        "array_sum = x + y\n",
        "print(\"Task 1 - Addition of x and y:\\n\", array_sum)\n",
        "\n",
        "# Task 2:\n",
        "array_diff = x - y\n",
        "print(\"\\nTask 2 - Subtraction of x and y:\\n\", array_diff)\n",
        "\n",
        "# Task 3:\n",
        "array_multiplied = x * 3\n",
        "print(\"\\nTask 3 - Multiplication of x by 3:\\n\", array_multiplied)\n",
        "\n",
        "# Task 4:\n",
        "array_squared = np.square(x)\n",
        "print(\"\\nTask 4 - Square of each element in x:\\n\", array_squared)\n",
        "\n",
        "# Task 5:\n",
        "# v and w\n",
        "dot_v_w = np.dot(v, w)\n",
        "print(\"\\nTask 5a - Dot Product of v and w:\\n\", dot_v_w)\n",
        "\n",
        "# x and v\n",
        "dot_x_v = np.dot(x, v)\n",
        "print(\"\\nTask 5b - Dot Product of x and v:\\n\", dot_x_v)\n",
        "\n",
        "# x and y\n",
        "dot_x_y = np.dot(x, y)\n",
        "print(\"\\nTask 5c - Dot Product of x and y:\\n\", dot_x_y)\n",
        "\n",
        "# Task 6:\n",
        "concat_x_y_rows = np.concatenate((x, y), axis=0)  # Along rows\n",
        "print(\"\\nTask 6a - Concatenate x and y along rows:\\n\", concat_x_y_rows)\n",
        "\n",
        "concat_v_w_columns = np.vstack((v, w))  # Along columns\n",
        "print(\"\\nTask 6b - Concatenate v and w along columns:\\n\", concat_v_w_columns)\n",
        "\n",
        "# Task 7:\n",
        "try:\n",
        "    concat_x_v = np.concatenate((x, v), axis=0)\n",
        "    print(\"\\nTask 7 - Concatenate x and v:\\n\", concat_x_v)\n",
        "except ValueError as e:\n",
        "    print(\"\\nTask 7 - Error encountered when concatenating x and v:\")\n",
        "    print(e)\n",
        "    print(\"Explanation: The dimensions of x (2x2) and v (1D array) are incompatible for concatenation along the given axis. To resolve this, v must be reshaped to match the dimensions of x.\")\n"
      ],
      "metadata": {
        "colab": {
          "base_uri": "https://localhost:8080/"
        },
        "id": "HFW_N5vJPLZT",
        "outputId": "c7e4d086-779c-4bde-aa75-ad42120041ac"
      },
      "execution_count": null,
      "outputs": [
        {
          "output_type": "stream",
          "name": "stdout",
          "text": [
            "Task 1 - Addition of x and y:\n",
            " [[ 6  8]\n",
            " [10 13]]\n",
            "\n",
            "Task 2 - Subtraction of x and y:\n",
            " [[-4 -4]\n",
            " [-4 -3]]\n",
            "\n",
            "Task 3 - Multiplication of x by 3:\n",
            " [[ 3  6]\n",
            " [ 9 15]]\n",
            "\n",
            "Task 4 - Square of each element in x:\n",
            " [[ 1  4]\n",
            " [ 9 25]]\n",
            "\n",
            "Task 5a - Dot Product of v and w:\n",
            " 219\n",
            "\n",
            "Task 5b - Dot Product of x and v:\n",
            " [29 77]\n",
            "\n",
            "Task 5c - Dot Product of x and y:\n",
            " [[19 22]\n",
            " [50 58]]\n",
            "\n",
            "Task 6a - Concatenate x and y along rows:\n",
            " [[1 2]\n",
            " [3 5]\n",
            " [5 6]\n",
            " [7 8]]\n",
            "\n",
            "Task 6b - Concatenate v and w along columns:\n",
            " [[ 9 10]\n",
            " [11 12]]\n",
            "\n",
            "Task 7 - Error encountered when concatenating x and v:\n",
            "all the input arrays must have same number of dimensions, but the array at index 0 has 2 dimension(s) and the array at index 1 has 1 dimension(s)\n",
            "Explanation: The dimensions of x (2x2) and v (1D array) are incompatible for concatenation along the given axis. To resolve this, v must be reshaped to match the dimensions of x.\n"
          ]
        }
      ]
    },
    {
      "cell_type": "markdown",
      "source": [
        "#QUESTION4\n",
        "• For the following arrays:\n",
        "A = np.array([[3,4],[7,8]]) and B = np.array([[5,3],[2,1]]);\n",
        "Prove following with Numpy:\n",
        "1. Prove A.A−1 = I.\n",
        "2. Prove AB ̸= BA.\n",
        "3. Prove (AB)\n",
        "\n",
        "T = BTAT\n",
        ".\n",
        "\n",
        "• Solve the following system of Linear equation using Inverse Methods.\n",
        "\n",
        "2x − 3y + z = −1\n",
        "x − y + 2z = −3\n",
        "3x + y − z = 9\n",
        "\n",
        "{Hint: First use Numpy array to represent the equation in Matrix form. Then Solve for: AX = B}\n",
        "• Now: solve the above equation using np.linalg.inv function.{Explore more about ”linalg” function\n",
        "of Numpy}"
      ],
      "metadata": {
        "id": "E-uWNsqQPjGU"
      }
    },
    {
      "cell_type": "code",
      "source": [
        "import numpy as np\n",
        "\n",
        "A = np.array([[3, 4], [7, 8]])\n",
        "B = np.array([[5, 3], [2, 1]])\n",
        "\n",
        "# 1. Prove A.A⁻¹ = I\n",
        "A_inv = np.linalg.inv(A)\n",
        "product_A_A_inv = np.dot(A, A_inv)  # Compute A * A⁻¹\n",
        "\n",
        "print(\"1. Prove A.A⁻¹ = I:\")\n",
        "print(product_A_A_inv)\n",
        "\n",
        "# 2. Prove AB ≠ BA\n",
        "AB = np.dot(A, B)\n",
        "BA = np.dot(B, A)\n",
        "\n",
        "print(\"\\n2. Prove AB ≠ BA:\")\n",
        "print(\"AB:\\n\", AB)\n",
        "print(\"BA:\\n\", BA)\n",
        "print(\"Are AB and BA equal? \", np.array_equal(AB, BA))\n",
        "\n",
        "# 3. Prove (AB)^T = B^T * A^T\n",
        "AB_transpose = np.transpose(AB)\n",
        "BT_AT = np.dot(B.T, A.T)\n",
        "\n",
        "print(\"\\n3. Prove (AB)^T = B^T * A^T:\")\n",
        "print(\"(AB)^T:\\n\", AB_transpose)\n",
        "print(\"B^T * A^T:\\n\", BT_AT)\n",
        "print(\"Are (AB)^T and B^T * A^T equal? \", np.array_equal(AB_transpose, BT_AT))\n"
      ],
      "metadata": {
        "colab": {
          "base_uri": "https://localhost:8080/"
        },
        "id": "uZ2Rf_xnPyda",
        "outputId": "04f725f9-95eb-4325-8bf8-b84cf06fc7f3"
      },
      "execution_count": null,
      "outputs": [
        {
          "output_type": "stream",
          "name": "stdout",
          "text": [
            "1. Prove A.A⁻¹ = I:\n",
            "[[1.00000000e+00 0.00000000e+00]\n",
            " [1.77635684e-15 1.00000000e+00]]\n",
            "\n",
            "2. Prove AB ≠ BA:\n",
            "AB:\n",
            " [[23 13]\n",
            " [51 29]]\n",
            "BA:\n",
            " [[36 44]\n",
            " [13 16]]\n",
            "Are AB and BA equal?  False\n",
            "\n",
            "3. Prove (AB)^T = B^T * A^T:\n",
            "(AB)^T:\n",
            " [[23 51]\n",
            " [13 29]]\n",
            "B^T * A^T:\n",
            " [[23 51]\n",
            " [13 29]]\n",
            "Are (AB)^T and B^T * A^T equal?  True\n"
          ]
        }
      ]
    }
  ]
}