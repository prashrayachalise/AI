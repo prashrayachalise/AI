{
  "nbformat": 4,
  "nbformat_minor": 0,
  "metadata": {
    "colab": {
      "provenance": []
    },
    "kernelspec": {
      "name": "python3",
      "display_name": "Python 3"
    },
    "language_info": {
      "name": "python"
    }
  },
  "cells": [
    {
      "cell_type": "markdown",
      "source": [
        "#Task1\n",
        "1. Create empty lists for temperature classifications:\n",
        "(a) Cold: temperatures below 10°C.\n",
        "(b) Mild: temperatures between 10°C and 15°C.\n",
        "(c) Comfortable: temperatures between 15°C and 20°C.\n",
        "\n",
        "2. Iterate over the temperatures list and add each temperature to the appropriate cate-\n",
        "gory.\n",
        "\n",
        "3. Print the lists to verify the classifications."
      ],
      "metadata": {
        "id": "vZxe7d2ANZzB"
      }
    },
    {
      "cell_type": "code",
      "source": [
        "temperatures = [5, 12, 18, 7, 15, 20, 8, 14, 19, 10, 9]\n",
        "\n",
        "cold = []\n",
        "mild = []\n",
        "comfortable = []\n",
        "\n",
        "for temp in temperatures:\n",
        "    if temp < 10:\n",
        "        cold.append(temp)\n",
        "    elif 10 <= temp <= 15:\n",
        "        mild.append(temp)\n",
        "    elif 15 < temp <= 20:\n",
        "        comfortable.append(temp)\n",
        "\n",
        "print(\"Cold temperatures:\", cold)\n",
        "print(\"Mild temperatures:\", mild)\n",
        "print(\"Comfortable temperatures:\", comfortable)"
      ],
      "metadata": {
        "colab": {
          "base_uri": "https://localhost:8080/"
        },
        "id": "2Iypw816Ro0O",
        "outputId": "b3750c68-1b58-4619-a291-addbed49fd6f"
      },
      "execution_count": 12,
      "outputs": [
        {
          "output_type": "stream",
          "name": "stdout",
          "text": [
            "Cold temperatures: [5, 7, 8, 9]\n",
            "Mild temperatures: [12, 15, 14, 10]\n",
            "Comfortable temperatures: [18, 20, 19]\n"
          ]
        }
      ]
    },
    {
      "cell_type": "markdown",
      "source": [
        "#Task2\n",
        "1. How many times was it mild?\n",
        "(a) Hint: Count the number of items in the mild list and print the result.\n",
        "\n",
        "  = It was mild 4 times.\n",
        "\n",
        "2. How many times was it comfortable?\n",
        "\n",
        "  = It was comfortable 2 times.\n",
        "\n",
        "3. How many times was it cold?\n",
        "\n",
        "  = It was cold 4 times."
      ],
      "metadata": {
        "id": "BFM11Dy9OP60"
      }
    },
    {
      "cell_type": "markdown",
      "source": [
        "#Task3\n",
        "Using the formula for temperature conversion, convert each reading from Celsius to Fahren-\n",
        "heit and store it in a new list called temperatures_fahrenheit.\n",
        "\n",
        "Formula: Fahrenheit = (Celsius ×\n",
        "9\n",
        "5\n",
        ") + 32\n",
        "\n",
        "1. Iterate over the temperatures list and apply the formula to convert each temperature.\n",
        "2. Store the results in the new list.\n",
        "3. Print the converted Fahrenheit values."
      ],
      "metadata": {
        "id": "G7PLddXuO5aF"
      }
    },
    {
      "cell_type": "code",
      "source": [
        "temperatures = [5, 12, 18, 7, 15, 20, 8, 14, 19, 10, 9]\n",
        "\n",
        "temperatures_fahrenheit = []\n",
        "\n",
        "for temp in temperatures:\n",
        "    fahrenheit = (temp * 9 / 5) + 32\n",
        "    temperatures_fahrenheit.append(fahrenheit)\n",
        "\n",
        "print(\"Temperatures in Fahrenheit:\", temperatures_fahrenheit)"
      ],
      "metadata": {
        "colab": {
          "base_uri": "https://localhost:8080/"
        },
        "id": "I54_andsPICC",
        "outputId": "1ea93a75-4714-4af9-828c-b232e6ac21b5"
      },
      "execution_count": 3,
      "outputs": [
        {
          "output_type": "stream",
          "name": "stdout",
          "text": [
            "Temperatures in Fahrenheit: [41.0, 53.6, 64.4, 44.6, 59.0, 68.0, 46.4, 57.2, 66.2, 50.0, 48.2]\n"
          ]
        }
      ]
    },
    {
      "cell_type": "markdown",
      "source": [
        "#Tak4\n",
        "Scenario: Each day’s readings are grouped as:\n",
        "• Night (00-08),\n",
        "• Evening (08-16),\n",
        "• Day (16-24).\n",
        "1. Create empty lists for night, day, and evening temperatures.\n",
        "2. Iterate over the temperatures list, assigning values to each time-of-day list based on\n",
        "their position.\n",
        "3. Calculate and print the average day-time temperature.\n",
        "4. (Optional) Plot ”day vs. temperature” using matplotlib."
      ],
      "metadata": {
        "id": "QQCqbTuWPSiv"
      }
    },
    {
      "cell_type": "code",
      "source": [
        "temperatures = [7, 6, 5, 5, 6, 7, 8, 9, 10, 12, 14, 13, 15, 16, 18, 17, 16, 14, 13, 12, 10, 9, 8, 7]\n",
        "\n",
        "night = []  # 00-08\n",
        "evening = []  # 08-16\n",
        "day = []  # 16-24\n",
        "\n",
        "for i, temp in enumerate(temperatures):\n",
        "    if 0 <= i < 8:\n",
        "        night.append(temp)\n",
        "    elif 8 <= i < 16:\n",
        "        evening.append(temp)\n",
        "    elif 16 <= i < 24:\n",
        "        day.append(temp)\n",
        "\n",
        "average_day_temp = sum(day) / len(day) if day else 0\n",
        "\n",
        "print(\"Night temperatures:\", night)\n",
        "print(\"Evening temperatures:\", evening)\n",
        "print(\"Day temperatures:\", day)\n",
        "print(\"Average day-time temperature:\", round(average_day_temp, 2))"
      ],
      "metadata": {
        "colab": {
          "base_uri": "https://localhost:8080/"
        },
        "id": "ao-DxU3rPYYc",
        "outputId": "c43e78d9-7c70-4340-f929-3b62fa3ec178"
      },
      "execution_count": 4,
      "outputs": [
        {
          "output_type": "stream",
          "name": "stdout",
          "text": [
            "Night temperatures: [7, 6, 5, 5, 6, 7, 8, 9]\n",
            "Evening temperatures: [10, 12, 14, 13, 15, 16, 18, 17]\n",
            "Day temperatures: [16, 14, 13, 12, 10, 9, 8, 7]\n",
            "Average day-time temperature: 11.12\n"
          ]
        }
      ]
    },
    {
      "cell_type": "markdown",
      "source": [
        "#Task5\n",
        "Scenario: You have a list that contains numbers and other lists of numbers (nested lists).\n",
        "You want to find the total sum of all the numbers in this structure.\n",
        "Task:\n",
        "• Write a recursive function sum_nested_list(nested_list) that:\n",
        "1. Takes a nested list (a list that can contain numbers or other lists of numbers) as\n",
        "input.\n",
        "2. Sums all numbers at every depth level of the list, regardless of how deeply nested\n",
        "the numbers are.\n",
        "• Test the function with a sample nested list, such as\n",
        "nested_list = [1, [2, [3, 4], 5], 6, [7, 8]].\n",
        "The result should be the total sum of all the numbers."
      ],
      "metadata": {
        "id": "9HjFlNoxPiFO"
      }
    },
    {
      "cell_type": "code",
      "source": [
        "def sum_nested_list(nested_list):\n",
        "\n",
        "    total = 0\n",
        "    for element in nested_list:\n",
        "        if isinstance(element, list):\n",
        "            total += sum_nested_list(element)\n",
        "        else:\n",
        "            total += element\n",
        "    return total\n",
        "\n",
        "nested_list1 = [1, [2, [3, 4], 5], 6, [7, 8]]\n",
        "nested_list2 = [1, [2, 3], [4, [5]]]\n",
        "\n",
        "print(\"Sum of nested_list1:\", sum_nested_list(nested_list1))\n",
        "print(\"Sum of nested_list2:\", sum_nested_list(nested_list2))"
      ],
      "metadata": {
        "colab": {
          "base_uri": "https://localhost:8080/"
        },
        "id": "_LzVFeSzPwYF",
        "outputId": "38d6ea1f-2068-4de9-bcc6-c0e5765ce851"
      },
      "execution_count": 6,
      "outputs": [
        {
          "output_type": "stream",
          "name": "stdout",
          "text": [
            "Sum of nested_list1: 36\n",
            "Sum of nested_list2: 15\n"
          ]
        }
      ]
    },
    {
      "cell_type": "markdown",
      "source": [
        "#Task6\n",
        "Scenario: Given a string, generate all possible permutations of its characters. This is useful\n",
        "for understanding backtracking and recursive depth-first search.\n",
        "Task:\n",
        "• Write a recursive function generate_permutations(s) that:\n",
        "– Takes a string s as input and returns a list of all unique permutations.\n",
        "• Test with strings like ”abc” and ”aab”.\n",
        "\n",
        "print(generate_permutations(\"abc\"))\n",
        "\n",
        "Should return [’abc’, ’acb’, ’bac’, ’bca’, ’cab’, ’cba’]"
      ],
      "metadata": {
        "id": "O9PQIarwP6aB"
      }
    },
    {
      "cell_type": "code",
      "source": [
        "def generate_permutations(s):\n",
        "\n",
        "    if len(s) == 1:\n",
        "        return [s]\n",
        "\n",
        "    permutations = []\n",
        "\n",
        "    for i in range(len(s)):\n",
        "        rest_of_string = s[:i] + s[i+1:]\n",
        "        for perm in generate_permutations(rest_of_string):\n",
        "            permutations.append(s[i] + perm)\n",
        "\n",
        "    return list(set(permutations))\n",
        "\n",
        "print(generate_permutations(\"abc\"))"
      ],
      "metadata": {
        "colab": {
          "base_uri": "https://localhost:8080/"
        },
        "id": "KZApEmqYQB1s",
        "outputId": "8b345e04-4cd1-4889-ff20-ca43cbbbc6c0"
      },
      "execution_count": 7,
      "outputs": [
        {
          "output_type": "stream",
          "name": "stdout",
          "text": [
            "['cba', 'bac', 'bca', 'acb', 'cab', 'abc']\n"
          ]
        }
      ]
    },
    {
      "cell_type": "markdown",
      "source": [
        "#Task7\n",
        "Directory Size Calculation Scenario: Imagine a file system where directories can contain files\n",
        "(with sizes in KB) and other directories. You want to calculate the total size of a directory,\n",
        "including all nested files and subdirectories.\n",
        "1. Write a recursive function calculate_directory_size(directory) where:\n",
        "• directory is a dictionary where keys represent file names (with values as sizes in KB) or directory names (with values as another dictionary representing a subdi-\n",
        "rectory).\n",
        "\n",
        "• The function should return the total size of the directory, including all nested\n",
        "subdirectories.\n",
        "2. Test the function with a sample directory structure."
      ],
      "metadata": {
        "id": "ZkU3CkgnQZGJ"
      }
    },
    {
      "cell_type": "code",
      "source": [
        "def calculate_directory_size(directory):\n",
        "    total_size = 0\n",
        "\n",
        "    for key, value in directory.items():\n",
        "        if isinstance(value, dict):\n",
        "            total_size += calculate_directory_size(value)\n",
        "        else:\n",
        "            total_size += value\n",
        "\n",
        "    return total_size\n",
        "\n",
        "\n",
        "directory_structure = {\n",
        "    \"file1.txt\": 200,\n",
        "    \"file2.txt\": 300,\n",
        "    \"subdir1\": {\n",
        "        \"file3.txt\": 400,\n",
        "        \"file4.txt\": 100\n",
        "    },\n",
        "    \"subdir2\": {\n",
        "        \"subsubdir1\": {\n",
        "            \"file5.txt\": 250\n",
        "        },\n",
        "        \"file6.txt\": 150\n",
        "    }\n",
        "}\n",
        "\n",
        "total_size = calculate_directory_size(directory_structure)\n",
        "print(\"Total directory size:\", total_size, \"KB\")"
      ],
      "metadata": {
        "colab": {
          "base_uri": "https://localhost:8080/"
        },
        "id": "alECzElCQqRW",
        "outputId": "3a22f9df-015a-4ed2-f35d-e5266176f744"
      },
      "execution_count": 8,
      "outputs": [
        {
          "output_type": "stream",
          "name": "stdout",
          "text": [
            "Total directory size: 1400 KB\n"
          ]
        }
      ]
    },
    {
      "cell_type": "markdown",
      "source": [
        "#Task8\n",
        "Scenario: Given a set of coin denominations and a target amount, find the minimum number\n",
        "of coins needed to make the amount. If it’s not possible, return - 1.\n",
        "Task:\n",
        "1. Write a function min_coins(coins, amount) that:\n",
        "• Uses DP to calculate the minimum number of coins needed to make up the\n",
        "amount.\n",
        "2. Test with coins = [1, 2, 5] and amount = 11. The result should be 3 (using coins\n",
        "[5, 5, 1])."
      ],
      "metadata": {
        "id": "sfxJ9kHbQy5v"
      }
    },
    {
      "cell_type": "code",
      "source": [
        "def min_coins(coins, amount):\n",
        "\n",
        "    dp = [float('inf')] * (amount + 1)\n",
        "    dp[0] = 0\n",
        "\n",
        "    for coin in coins:\n",
        "        for i in range(coin, amount + 1):\n",
        "            dp[i] = min(dp[i], dp[i - coin] + 1)\n",
        "\n",
        "    return dp[amount] if dp[amount] != float('inf') else -1\n",
        "\n",
        "result = min_coins([1, 2, 5], 11)\n",
        "print(\"Minimum number of coins:\", result)"
      ],
      "metadata": {
        "colab": {
          "base_uri": "https://localhost:8080/"
        },
        "id": "T1YPIXvyQ_7E",
        "outputId": "a42d9f56-4702-4585-f5cc-6c761f1acd97"
      },
      "execution_count": 9,
      "outputs": [
        {
          "output_type": "stream",
          "name": "stdout",
          "text": [
            "Minimum number of coins: 3\n"
          ]
        }
      ]
    },
    {
      "cell_type": "markdown",
      "source": [
        "#Task9\n",
        "Scenario: Given two strings, find the length of their longest common subsequence (LCS).\n",
        "This is useful in text comparison.\n",
        "Task:\n",
        "1. Write a function longest_common_subsequence(s1, s2) that:\n",
        "• Uses DP to find the length of the LCS of two strings s1 and s2.\n",
        "2. Test with strings like \"abcde\" and \"ace\"; the LCS length should be 3 (\"ace\")."
      ],
      "metadata": {
        "id": "RBG-glxvRE-j"
      }
    },
    {
      "cell_type": "code",
      "source": [
        "def longest_common_subsequence(s1, s2):\n",
        "\n",
        "    dp = [[0] * (len(s2) + 1) for _ in range(len(s1) + 1)]\n",
        "    for i in range(1, len(s1) + 1):\n",
        "        for j in range(1, len(s2) + 1):\n",
        "            if s1[i - 1] == s2[j - 1]:\n",
        "                dp[i][j] = dp[i - 1][j - 1] + 1\n",
        "            else:\n",
        "                dp[i][j] = max(dp[i - 1][j], dp[i][j - 1])\n",
        "\n",
        "    return dp[len(s1)][len(s2)]\n",
        "\n",
        "s1 = \"abcde\"\n",
        "s2 = \"ace\"\n",
        "print(\"Length of Longest Common Subsequence:\", longest_common_subsequence(s1, s2))"
      ],
      "metadata": {
        "colab": {
          "base_uri": "https://localhost:8080/"
        },
        "id": "x85gwm1xRVQg",
        "outputId": "546942e5-807d-4e62-fe94-d7bd87af6b01"
      },
      "execution_count": 10,
      "outputs": [
        {
          "output_type": "stream",
          "name": "stdout",
          "text": [
            "Length of Longest Common Subsequence: 3\n"
          ]
        }
      ]
    },
    {
      "cell_type": "markdown",
      "source": [
        "#Task10\n",
        "Scenario: You have a list of items, each with a weight and a value. Given a weight capacity,\n",
        "maximize the total value of items you can carry without exceeding the weight capacity.\n",
        "Task:\n",
        "1. Write a function knapsack(weights, values, capacity) that:\n",
        "• Uses DP to determine the maximum value that can be achieved within the given\n",
        "weight capacity.\n",
        "\n",
        "2. Test with weights [1, 3, 4, 5], values [1, 4, 5, 7], and capacity 7. The re-\n",
        "sult should be 9."
      ],
      "metadata": {
        "id": "5jcvMJfdRdbW"
      }
    },
    {
      "cell_type": "code",
      "source": [
        "def knapsack(weights, values, capacity):\n",
        "\n",
        "    n = len(weights)\n",
        "    dp = [[0] * (capacity + 1) for _ in range(n + 1)]\n",
        "\n",
        "    for i in range(1, n + 1):\n",
        "        for w in range(1, capacity + 1):\n",
        "            if weights[i - 1] <= w:\n",
        "                dp[i][w] = max(dp[i - 1][w], values[i - 1] + dp[i - 1][w - weights[i - 1]])\n",
        "            else:\n",
        "                dp[i][w] = dp[i - 1][w]\n",
        "\n",
        "    return dp[n][capacity]\n",
        "\n",
        "weights = [1, 3, 4, 5]\n",
        "values = [1, 4, 5, 7]\n",
        "capacity = 7\n",
        "result = knapsack(weights, values, capacity)\n",
        "print(\"Maximum value in Knapsack:\", result)"
      ],
      "metadata": {
        "colab": {
          "base_uri": "https://localhost:8080/"
        },
        "id": "50G8Jz_jRgmE",
        "outputId": "c5627069-8142-4fcd-9c20-057c27900a82"
      },
      "execution_count": 11,
      "outputs": [
        {
          "output_type": "stream",
          "name": "stdout",
          "text": [
            "Maximum value in Knapsack: 9\n"
          ]
        }
      ]
    }
  ]
}