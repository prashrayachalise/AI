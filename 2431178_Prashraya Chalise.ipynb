{
 "cells": [
  {
   "cell_type": "markdown",
   "id": "e415e1f6-68c1-458d-8336-9c62ecd7e357",
   "metadata": {},
   "source": [
    "# Imports"
   ]
  },
  {
   "cell_type": "code",
   "execution_count": 1,
   "id": "bf0ac226-0035-4b81-ac0f-78b4d968fcff",
   "metadata": {},
   "outputs": [],
   "source": [
    "import pandas as pd\n",
    "import numpy as np\n",
    "import seaborn as sns\n",
    "import matplotlib.pyplot as plt"
   ]
  },
  {
   "cell_type": "markdown",
   "id": "1735ae42-0641-449a-93db-0c028db106b7",
   "metadata": {},
   "source": [
    "# Data Exploration and Understanding:"
   ]
  },
  {
   "cell_type": "markdown",
   "id": "f7a288f0-4a5b-47bc-ab9c-e1f5c6fec798",
   "metadata": {},
   "source": [
    "## Loading the Dataset:"
   ]
  },
  {
   "cell_type": "code",
   "execution_count": 2,
   "id": "a166483d-5d10-4966-8d41-4c7672698803",
   "metadata": {},
   "outputs": [],
   "source": [
    "df = pd.read_csv('data/WHR-2024-5CS037.csv')"
   ]
  },
  {
   "cell_type": "code",
   "execution_count": 3,
   "id": "91de76e5-bc9a-42fa-b8bf-e16146556341",
   "metadata": {},
   "outputs": [
    {
     "data": {
      "text/html": [
       "<div>\n",
       "<style scoped>\n",
       "    .dataframe tbody tr th:only-of-type {\n",
       "        vertical-align: middle;\n",
       "    }\n",
       "\n",
       "    .dataframe tbody tr th {\n",
       "        vertical-align: top;\n",
       "    }\n",
       "\n",
       "    .dataframe thead th {\n",
       "        text-align: right;\n",
       "    }\n",
       "</style>\n",
       "<table border=\"1\" class=\"dataframe\">\n",
       "  <thead>\n",
       "    <tr style=\"text-align: right;\">\n",
       "      <th></th>\n",
       "      <th>Country name</th>\n",
       "      <th>score</th>\n",
       "      <th>Log GDP per capita</th>\n",
       "      <th>Social support</th>\n",
       "      <th>Healthy life expectancy</th>\n",
       "      <th>Freedom to make life choices</th>\n",
       "      <th>Generosity</th>\n",
       "      <th>Perceptions of corruption</th>\n",
       "      <th>Dystopia + residual</th>\n",
       "    </tr>\n",
       "  </thead>\n",
       "  <tbody>\n",
       "    <tr>\n",
       "      <th>0</th>\n",
       "      <td>Finland</td>\n",
       "      <td>7.741</td>\n",
       "      <td>1.844</td>\n",
       "      <td>1.572</td>\n",
       "      <td>0.695</td>\n",
       "      <td>0.859</td>\n",
       "      <td>0.142</td>\n",
       "      <td>0.546</td>\n",
       "      <td>2.082</td>\n",
       "    </tr>\n",
       "    <tr>\n",
       "      <th>1</th>\n",
       "      <td>Denmark</td>\n",
       "      <td>7.583</td>\n",
       "      <td>1.908</td>\n",
       "      <td>1.520</td>\n",
       "      <td>0.699</td>\n",
       "      <td>0.823</td>\n",
       "      <td>0.204</td>\n",
       "      <td>0.548</td>\n",
       "      <td>1.881</td>\n",
       "    </tr>\n",
       "    <tr>\n",
       "      <th>2</th>\n",
       "      <td>Iceland</td>\n",
       "      <td>7.525</td>\n",
       "      <td>1.881</td>\n",
       "      <td>1.617</td>\n",
       "      <td>0.718</td>\n",
       "      <td>0.819</td>\n",
       "      <td>0.258</td>\n",
       "      <td>0.182</td>\n",
       "      <td>2.050</td>\n",
       "    </tr>\n",
       "    <tr>\n",
       "      <th>3</th>\n",
       "      <td>Sweden</td>\n",
       "      <td>7.344</td>\n",
       "      <td>1.878</td>\n",
       "      <td>1.501</td>\n",
       "      <td>0.724</td>\n",
       "      <td>0.838</td>\n",
       "      <td>0.221</td>\n",
       "      <td>0.524</td>\n",
       "      <td>1.658</td>\n",
       "    </tr>\n",
       "    <tr>\n",
       "      <th>4</th>\n",
       "      <td>Israel</td>\n",
       "      <td>7.341</td>\n",
       "      <td>1.803</td>\n",
       "      <td>1.513</td>\n",
       "      <td>0.740</td>\n",
       "      <td>0.641</td>\n",
       "      <td>0.153</td>\n",
       "      <td>0.193</td>\n",
       "      <td>2.298</td>\n",
       "    </tr>\n",
       "    <tr>\n",
       "      <th>...</th>\n",
       "      <td>...</td>\n",
       "      <td>...</td>\n",
       "      <td>...</td>\n",
       "      <td>...</td>\n",
       "      <td>...</td>\n",
       "      <td>...</td>\n",
       "      <td>...</td>\n",
       "      <td>...</td>\n",
       "      <td>...</td>\n",
       "    </tr>\n",
       "    <tr>\n",
       "      <th>138</th>\n",
       "      <td>Congo (Kinshasa)</td>\n",
       "      <td>3.295</td>\n",
       "      <td>0.534</td>\n",
       "      <td>0.665</td>\n",
       "      <td>0.262</td>\n",
       "      <td>0.473</td>\n",
       "      <td>0.189</td>\n",
       "      <td>0.072</td>\n",
       "      <td>1.102</td>\n",
       "    </tr>\n",
       "    <tr>\n",
       "      <th>139</th>\n",
       "      <td>Sierra Leone</td>\n",
       "      <td>3.245</td>\n",
       "      <td>0.654</td>\n",
       "      <td>0.566</td>\n",
       "      <td>0.253</td>\n",
       "      <td>0.469</td>\n",
       "      <td>0.181</td>\n",
       "      <td>0.053</td>\n",
       "      <td>1.068</td>\n",
       "    </tr>\n",
       "    <tr>\n",
       "      <th>140</th>\n",
       "      <td>Lesotho</td>\n",
       "      <td>3.186</td>\n",
       "      <td>0.771</td>\n",
       "      <td>0.851</td>\n",
       "      <td>0.000</td>\n",
       "      <td>0.523</td>\n",
       "      <td>0.082</td>\n",
       "      <td>0.085</td>\n",
       "      <td>0.875</td>\n",
       "    </tr>\n",
       "    <tr>\n",
       "      <th>141</th>\n",
       "      <td>Lebanon</td>\n",
       "      <td>2.707</td>\n",
       "      <td>1.377</td>\n",
       "      <td>0.577</td>\n",
       "      <td>0.556</td>\n",
       "      <td>0.173</td>\n",
       "      <td>0.068</td>\n",
       "      <td>0.029</td>\n",
       "      <td>-0.073</td>\n",
       "    </tr>\n",
       "    <tr>\n",
       "      <th>142</th>\n",
       "      <td>Afghanistan</td>\n",
       "      <td>1.721</td>\n",
       "      <td>0.628</td>\n",
       "      <td>0.000</td>\n",
       "      <td>0.242</td>\n",
       "      <td>0.000</td>\n",
       "      <td>0.091</td>\n",
       "      <td>0.088</td>\n",
       "      <td>0.672</td>\n",
       "    </tr>\n",
       "  </tbody>\n",
       "</table>\n",
       "<p>143 rows × 9 columns</p>\n",
       "</div>"
      ],
      "text/plain": [
       "         Country name  score  Log GDP per capita  Social support  \\\n",
       "0             Finland  7.741               1.844           1.572   \n",
       "1             Denmark  7.583               1.908           1.520   \n",
       "2             Iceland  7.525               1.881           1.617   \n",
       "3              Sweden  7.344               1.878           1.501   \n",
       "4              Israel  7.341               1.803           1.513   \n",
       "..                ...    ...                 ...             ...   \n",
       "138  Congo (Kinshasa)  3.295               0.534           0.665   \n",
       "139      Sierra Leone  3.245               0.654           0.566   \n",
       "140           Lesotho  3.186               0.771           0.851   \n",
       "141           Lebanon  2.707               1.377           0.577   \n",
       "142       Afghanistan  1.721               0.628           0.000   \n",
       "\n",
       "     Healthy life expectancy  Freedom to make life choices  Generosity  \\\n",
       "0                      0.695                         0.859       0.142   \n",
       "1                      0.699                         0.823       0.204   \n",
       "2                      0.718                         0.819       0.258   \n",
       "3                      0.724                         0.838       0.221   \n",
       "4                      0.740                         0.641       0.153   \n",
       "..                       ...                           ...         ...   \n",
       "138                    0.262                         0.473       0.189   \n",
       "139                    0.253                         0.469       0.181   \n",
       "140                    0.000                         0.523       0.082   \n",
       "141                    0.556                         0.173       0.068   \n",
       "142                    0.242                         0.000       0.091   \n",
       "\n",
       "     Perceptions of corruption  Dystopia + residual  \n",
       "0                        0.546                2.082  \n",
       "1                        0.548                1.881  \n",
       "2                        0.182                2.050  \n",
       "3                        0.524                1.658  \n",
       "4                        0.193                2.298  \n",
       "..                         ...                  ...  \n",
       "138                      0.072                1.102  \n",
       "139                      0.053                1.068  \n",
       "140                      0.085                0.875  \n",
       "141                      0.029               -0.073  \n",
       "142                      0.088                0.672  \n",
       "\n",
       "[143 rows x 9 columns]"
      ]
     },
     "execution_count": 3,
     "metadata": {},
     "output_type": "execute_result"
    }
   ],
   "source": [
    "df"
   ]
  },
  {
   "cell_type": "markdown",
   "id": "0f68e0a5-7b3d-455a-b1fc-2721e360b116",
   "metadata": {},
   "source": [
    "## First 10 Rows in the Dataset"
   ]
  },
  {
   "cell_type": "code",
   "execution_count": 4,
   "id": "25f62b70-10cc-477e-8c43-cc3ebfc2a1f4",
   "metadata": {},
   "outputs": [
    {
     "data": {
      "text/html": [
       "<div>\n",
       "<style scoped>\n",
       "    .dataframe tbody tr th:only-of-type {\n",
       "        vertical-align: middle;\n",
       "    }\n",
       "\n",
       "    .dataframe tbody tr th {\n",
       "        vertical-align: top;\n",
       "    }\n",
       "\n",
       "    .dataframe thead th {\n",
       "        text-align: right;\n",
       "    }\n",
       "</style>\n",
       "<table border=\"1\" class=\"dataframe\">\n",
       "  <thead>\n",
       "    <tr style=\"text-align: right;\">\n",
       "      <th></th>\n",
       "      <th>Country name</th>\n",
       "      <th>score</th>\n",
       "      <th>Log GDP per capita</th>\n",
       "      <th>Social support</th>\n",
       "      <th>Healthy life expectancy</th>\n",
       "      <th>Freedom to make life choices</th>\n",
       "      <th>Generosity</th>\n",
       "      <th>Perceptions of corruption</th>\n",
       "      <th>Dystopia + residual</th>\n",
       "    </tr>\n",
       "  </thead>\n",
       "  <tbody>\n",
       "    <tr>\n",
       "      <th>0</th>\n",
       "      <td>Finland</td>\n",
       "      <td>7.741</td>\n",
       "      <td>1.844</td>\n",
       "      <td>1.572</td>\n",
       "      <td>0.695</td>\n",
       "      <td>0.859</td>\n",
       "      <td>0.142</td>\n",
       "      <td>0.546</td>\n",
       "      <td>2.082</td>\n",
       "    </tr>\n",
       "    <tr>\n",
       "      <th>1</th>\n",
       "      <td>Denmark</td>\n",
       "      <td>7.583</td>\n",
       "      <td>1.908</td>\n",
       "      <td>1.520</td>\n",
       "      <td>0.699</td>\n",
       "      <td>0.823</td>\n",
       "      <td>0.204</td>\n",
       "      <td>0.548</td>\n",
       "      <td>1.881</td>\n",
       "    </tr>\n",
       "    <tr>\n",
       "      <th>2</th>\n",
       "      <td>Iceland</td>\n",
       "      <td>7.525</td>\n",
       "      <td>1.881</td>\n",
       "      <td>1.617</td>\n",
       "      <td>0.718</td>\n",
       "      <td>0.819</td>\n",
       "      <td>0.258</td>\n",
       "      <td>0.182</td>\n",
       "      <td>2.050</td>\n",
       "    </tr>\n",
       "    <tr>\n",
       "      <th>3</th>\n",
       "      <td>Sweden</td>\n",
       "      <td>7.344</td>\n",
       "      <td>1.878</td>\n",
       "      <td>1.501</td>\n",
       "      <td>0.724</td>\n",
       "      <td>0.838</td>\n",
       "      <td>0.221</td>\n",
       "      <td>0.524</td>\n",
       "      <td>1.658</td>\n",
       "    </tr>\n",
       "    <tr>\n",
       "      <th>4</th>\n",
       "      <td>Israel</td>\n",
       "      <td>7.341</td>\n",
       "      <td>1.803</td>\n",
       "      <td>1.513</td>\n",
       "      <td>0.740</td>\n",
       "      <td>0.641</td>\n",
       "      <td>0.153</td>\n",
       "      <td>0.193</td>\n",
       "      <td>2.298</td>\n",
       "    </tr>\n",
       "    <tr>\n",
       "      <th>5</th>\n",
       "      <td>Netherlands</td>\n",
       "      <td>7.319</td>\n",
       "      <td>1.901</td>\n",
       "      <td>1.462</td>\n",
       "      <td>0.706</td>\n",
       "      <td>0.725</td>\n",
       "      <td>0.247</td>\n",
       "      <td>0.372</td>\n",
       "      <td>1.906</td>\n",
       "    </tr>\n",
       "    <tr>\n",
       "      <th>6</th>\n",
       "      <td>Norway</td>\n",
       "      <td>7.302</td>\n",
       "      <td>1.952</td>\n",
       "      <td>1.517</td>\n",
       "      <td>0.704</td>\n",
       "      <td>0.835</td>\n",
       "      <td>0.224</td>\n",
       "      <td>0.484</td>\n",
       "      <td>1.586</td>\n",
       "    </tr>\n",
       "    <tr>\n",
       "      <th>7</th>\n",
       "      <td>Luxembourg</td>\n",
       "      <td>7.122</td>\n",
       "      <td>2.141</td>\n",
       "      <td>1.355</td>\n",
       "      <td>0.708</td>\n",
       "      <td>0.801</td>\n",
       "      <td>0.146</td>\n",
       "      <td>0.432</td>\n",
       "      <td>1.540</td>\n",
       "    </tr>\n",
       "    <tr>\n",
       "      <th>8</th>\n",
       "      <td>Switzerland</td>\n",
       "      <td>7.060</td>\n",
       "      <td>1.970</td>\n",
       "      <td>1.425</td>\n",
       "      <td>0.747</td>\n",
       "      <td>0.759</td>\n",
       "      <td>0.173</td>\n",
       "      <td>0.498</td>\n",
       "      <td>1.488</td>\n",
       "    </tr>\n",
       "    <tr>\n",
       "      <th>9</th>\n",
       "      <td>Australia</td>\n",
       "      <td>7.057</td>\n",
       "      <td>1.854</td>\n",
       "      <td>1.461</td>\n",
       "      <td>0.692</td>\n",
       "      <td>0.756</td>\n",
       "      <td>0.225</td>\n",
       "      <td>0.323</td>\n",
       "      <td>1.745</td>\n",
       "    </tr>\n",
       "  </tbody>\n",
       "</table>\n",
       "</div>"
      ],
      "text/plain": [
       "  Country name  score  Log GDP per capita  Social support  \\\n",
       "0      Finland  7.741               1.844           1.572   \n",
       "1      Denmark  7.583               1.908           1.520   \n",
       "2      Iceland  7.525               1.881           1.617   \n",
       "3       Sweden  7.344               1.878           1.501   \n",
       "4       Israel  7.341               1.803           1.513   \n",
       "5  Netherlands  7.319               1.901           1.462   \n",
       "6       Norway  7.302               1.952           1.517   \n",
       "7   Luxembourg  7.122               2.141           1.355   \n",
       "8  Switzerland  7.060               1.970           1.425   \n",
       "9    Australia  7.057               1.854           1.461   \n",
       "\n",
       "   Healthy life expectancy  Freedom to make life choices  Generosity  \\\n",
       "0                    0.695                         0.859       0.142   \n",
       "1                    0.699                         0.823       0.204   \n",
       "2                    0.718                         0.819       0.258   \n",
       "3                    0.724                         0.838       0.221   \n",
       "4                    0.740                         0.641       0.153   \n",
       "5                    0.706                         0.725       0.247   \n",
       "6                    0.704                         0.835       0.224   \n",
       "7                    0.708                         0.801       0.146   \n",
       "8                    0.747                         0.759       0.173   \n",
       "9                    0.692                         0.756       0.225   \n",
       "\n",
       "   Perceptions of corruption  Dystopia + residual  \n",
       "0                      0.546                2.082  \n",
       "1                      0.548                1.881  \n",
       "2                      0.182                2.050  \n",
       "3                      0.524                1.658  \n",
       "4                      0.193                2.298  \n",
       "5                      0.372                1.906  \n",
       "6                      0.484                1.586  \n",
       "7                      0.432                1.540  \n",
       "8                      0.498                1.488  \n",
       "9                      0.323                1.745  "
      ]
     },
     "execution_count": 4,
     "metadata": {},
     "output_type": "execute_result"
    }
   ],
   "source": [
    "df.head(10)"
   ]
  },
  {
   "cell_type": "markdown",
   "id": "5b19aa67-92df-49af-81ff-1fa86ff82ec0",
   "metadata": {},
   "source": [
    "## First 10 rows of the Dataset"
   ]
  },
  {
   "cell_type": "code",
   "execution_count": 5,
   "id": "127e4e94-9c09-451d-8281-bea2f71a3a14",
   "metadata": {},
   "outputs": [
    {
     "name": "stdout",
     "output_type": "stream",
     "text": [
      "(rows, clounms) = (143, 9)\n"
     ]
    }
   ],
   "source": [
    "a,b = df.shape\n",
    "print(f\"(rows, clounms) = {a,b}\") \n"
   ]
  },
  {
   "cell_type": "markdown",
   "id": "8cfd5960-e665-4448-836b-9bce43d1be64",
   "metadata": {},
   "source": [
    "## Columns with their data types"
   ]
  },
  {
   "cell_type": "code",
   "execution_count": 6,
   "id": "556e51cf-2f01-417b-8a21-40292e91e133",
   "metadata": {},
   "outputs": [
    {
     "name": "stdout",
     "output_type": "stream",
     "text": [
      "<class 'pandas.core.frame.DataFrame'>\n",
      "RangeIndex: 143 entries, 0 to 142\n",
      "Data columns (total 9 columns):\n",
      " #   Column                        Non-Null Count  Dtype  \n",
      "---  ------                        --------------  -----  \n",
      " 0   Country name                  143 non-null    object \n",
      " 1   score                         143 non-null    float64\n",
      " 2   Log GDP per capita            140 non-null    float64\n",
      " 3   Social support                140 non-null    float64\n",
      " 4   Healthy life expectancy       140 non-null    float64\n",
      " 5   Freedom to make life choices  140 non-null    float64\n",
      " 6   Generosity                    140 non-null    float64\n",
      " 7   Perceptions of corruption     140 non-null    float64\n",
      " 8   Dystopia + residual           140 non-null    float64\n",
      "dtypes: float64(8), object(1)\n",
      "memory usage: 10.2+ KB\n"
     ]
    }
   ],
   "source": [
    "\n",
    "df.info()"
   ]
  },
  {
   "cell_type": "markdown",
   "id": "a9190af1-7004-42a5-911b-b202bb200d8f",
   "metadata": {},
   "source": [
    "# Basic Statistics"
   ]
  },
  {
   "cell_type": "markdown",
   "id": "294f77ff-d6ad-4637-bb7b-e678d1ecb783",
   "metadata": {},
   "source": [
    "## Data Exploration and Understanding:"
   ]
  },
  {
   "cell_type": "markdown",
   "id": "bff0fba9-5605-4129-ac31-d07f03814030",
   "metadata": {},
   "source": [
    "### Calculating Mean Score:"
   ]
  },
  {
   "cell_type": "code",
   "execution_count": 7,
   "id": "8522c9b1-5ca7-4a04-ac60-b1b4e25038f0",
   "metadata": {},
   "outputs": [
    {
     "name": "stdout",
     "output_type": "stream",
     "text": [
      "Mean Score = 5.52758041958042\n"
     ]
    }
   ],
   "source": [
    "mean_score = df['score'].mean()\n",
    "print (f\"Mean Score = {mean_score}\")"
   ]
  },
  {
   "cell_type": "markdown",
   "id": "836c2ca4-63ad-41d3-babb-9933ddb8d8f0",
   "metadata": {},
   "source": [
    "### Calculating Median Score:"
   ]
  },
  {
   "cell_type": "code",
   "execution_count": 8,
   "id": "a689c68e-284e-41e8-a27b-ad3053ca93f8",
   "metadata": {},
   "outputs": [
    {
     "name": "stdout",
     "output_type": "stream",
     "text": [
      "Median Score = 5.785\n"
     ]
    }
   ],
   "source": [
    "median_score = df['score'].median()\n",
    "print (f\"Median Score = {median_score}\")"
   ]
  },
  {
   "cell_type": "markdown",
   "id": "6f4d35af-b825-42ed-aac6-ad7768f4d032",
   "metadata": {},
   "source": [
    "### Calculating Standard Deviation:"
   ]
  },
  {
   "cell_type": "code",
   "execution_count": 9,
   "id": "131faa1e-6e99-4474-a5dd-20656dc35d93",
   "metadata": {},
   "outputs": [
    {
     "name": "stdout",
     "output_type": "stream",
     "text": [
      "Standard Deviation = 1.1707165099442993\n"
     ]
    }
   ],
   "source": [
    "std_score = df['score'].std()\n",
    "print(f\"Standard Deviation = {std_score}\")"
   ]
  },
  {
   "cell_type": "markdown",
   "id": "0f2a3c5d-3266-47e1-9d4f-4aff9beca0de",
   "metadata": {},
   "source": [
    "## Country with the highest and lowest happiness scores"
   ]
  },
  {
   "cell_type": "code",
   "execution_count": 22,
   "id": "0c74ee85-7eb3-43c1-9809-f39c1fea4b5c",
   "metadata": {},
   "outputs": [
    {
     "name": "stdout",
     "output_type": "stream",
     "text": [
      "\n",
      "Countries with the highest and lowest happiness scores:\n",
      "Highest Score: Finland\n",
      "Lowest Score: Afghanistan\n"
     ]
    }
   ],
   "source": [
    "country_highest_score = df.loc[df['score'].idxmax(), 'Country name']\n",
    "country_lowest_score = df.loc[df['score'].idxmin(), 'Country name']\n",
    "\n",
    "print(\"\\nCountries with the highest and lowest happiness scores:\")\n",
    "print(f\"Highest Score: {country_highest_score}\")\n",
    "print(f\"Lowest Score: {country_lowest_score}\")"
   ]
  },
  {
   "cell_type": "markdown",
   "id": "f3556855-9b87-431d-93b4-5123ac671dae",
   "metadata": {},
   "source": [
    "# Missing Values"
   ]
  },
  {
   "cell_type": "code",
   "execution_count": 11,
   "id": "d5bdfef9-019b-4cf7-b680-2e788de226fc",
   "metadata": {},
   "outputs": [
    {
     "name": "stdout",
     "output_type": "stream",
     "text": [
      "Missing Values in the Dataset:\n",
      "Country name                    0\n",
      "score                           0\n",
      "Log GDP per capita              3\n",
      "Social support                  3\n",
      "Healthy life expectancy         3\n",
      "Freedom to make life choices    3\n",
      "Generosity                      3\n",
      "Perceptions of corruption       3\n",
      "Dystopia + residual             3\n",
      "dtype: int64\n"
     ]
    }
   ],
   "source": [
    "print(\"Missing Values in the Dataset:\")\n",
    "missing_values = df.isnull().sum()\n",
    "\n",
    "print(missing_values)"
   ]
  },
  {
   "cell_type": "markdown",
   "id": "39494d6a-a842-4e56-8e31-678e2ceeec9d",
   "metadata": {},
   "source": [
    "# Filtering and Sorting"
   ]
  },
  {
   "cell_type": "markdown",
   "id": "24b74735-3bc7-4c1e-94f8-5f87eb76da8e",
   "metadata": {},
   "source": [
    "## Countries with Score greater than 7.5"
   ]
  },
  {
   "cell_type": "code",
   "execution_count": 23,
   "id": "8b441234-ab7f-4caf-9ab6-5d465834116f",
   "metadata": {},
   "outputs": [
    {
     "name": "stdout",
     "output_type": "stream",
     "text": [
      "Filtered Dataset (Score > 7.5):\n"
     ]
    },
    {
     "data": {
      "text/html": [
       "<div>\n",
       "<style scoped>\n",
       "    .dataframe tbody tr th:only-of-type {\n",
       "        vertical-align: middle;\n",
       "    }\n",
       "\n",
       "    .dataframe tbody tr th {\n",
       "        vertical-align: top;\n",
       "    }\n",
       "\n",
       "    .dataframe thead th {\n",
       "        text-align: right;\n",
       "    }\n",
       "</style>\n",
       "<table border=\"1\" class=\"dataframe\">\n",
       "  <thead>\n",
       "    <tr style=\"text-align: right;\">\n",
       "      <th></th>\n",
       "      <th>Country name</th>\n",
       "      <th>score</th>\n",
       "      <th>Log GDP per capita</th>\n",
       "      <th>Social support</th>\n",
       "      <th>Healthy life expectancy</th>\n",
       "      <th>Freedom to make life choices</th>\n",
       "      <th>Generosity</th>\n",
       "      <th>Perceptions of corruption</th>\n",
       "      <th>Dystopia + residual</th>\n",
       "      <th>Happiness Category</th>\n",
       "    </tr>\n",
       "  </thead>\n",
       "  <tbody>\n",
       "    <tr>\n",
       "      <th>0</th>\n",
       "      <td>Finland</td>\n",
       "      <td>7.741</td>\n",
       "      <td>1.844</td>\n",
       "      <td>1.572</td>\n",
       "      <td>0.695</td>\n",
       "      <td>0.859</td>\n",
       "      <td>0.142</td>\n",
       "      <td>0.546</td>\n",
       "      <td>2.082</td>\n",
       "      <td>High</td>\n",
       "    </tr>\n",
       "    <tr>\n",
       "      <th>1</th>\n",
       "      <td>Denmark</td>\n",
       "      <td>7.583</td>\n",
       "      <td>1.908</td>\n",
       "      <td>1.520</td>\n",
       "      <td>0.699</td>\n",
       "      <td>0.823</td>\n",
       "      <td>0.204</td>\n",
       "      <td>0.548</td>\n",
       "      <td>1.881</td>\n",
       "      <td>High</td>\n",
       "    </tr>\n",
       "    <tr>\n",
       "      <th>2</th>\n",
       "      <td>Iceland</td>\n",
       "      <td>7.525</td>\n",
       "      <td>1.881</td>\n",
       "      <td>1.617</td>\n",
       "      <td>0.718</td>\n",
       "      <td>0.819</td>\n",
       "      <td>0.258</td>\n",
       "      <td>0.182</td>\n",
       "      <td>2.050</td>\n",
       "      <td>High</td>\n",
       "    </tr>\n",
       "  </tbody>\n",
       "</table>\n",
       "</div>"
      ],
      "text/plain": [
       "  Country name  score  Log GDP per capita  Social support  \\\n",
       "0      Finland  7.741               1.844           1.572   \n",
       "1      Denmark  7.583               1.908           1.520   \n",
       "2      Iceland  7.525               1.881           1.617   \n",
       "\n",
       "   Healthy life expectancy  Freedom to make life choices  Generosity  \\\n",
       "0                    0.695                         0.859       0.142   \n",
       "1                    0.699                         0.823       0.204   \n",
       "2                    0.718                         0.819       0.258   \n",
       "\n",
       "   Perceptions of corruption  Dystopia + residual Happiness Category  \n",
       "0                      0.546                2.082               High  \n",
       "1                      0.548                1.881               High  \n",
       "2                      0.182                2.050               High  "
      ]
     },
     "execution_count": 23,
     "metadata": {},
     "output_type": "execute_result"
    }
   ],
   "source": [
    "filtered_df = df[df['score'] > 7.5]\n",
    "\n",
    "print(\"Filtered Dataset (Score > 7.5):\")\n",
    "filtered_df"
   ]
  },
  {
   "cell_type": "markdown",
   "id": "1859583d-9bf0-4f8c-bdb5-0bdfbf997dce",
   "metadata": {},
   "source": [
    "## Top 10 rows of the Sorted(decending)  dataset"
   ]
  },
  {
   "cell_type": "code",
   "execution_count": 31,
   "id": "4204ebde-f3f2-40e5-8b98-1d2aff5ddeaf",
   "metadata": {},
   "outputs": [
    {
     "name": "stdout",
     "output_type": "stream",
     "text": [
      "\n",
      "Top 10 countries sorted by GDP per Capita in descending order:\n"
     ]
    },
    {
     "data": {
      "text/html": [
       "<div>\n",
       "<style scoped>\n",
       "    .dataframe tbody tr th:only-of-type {\n",
       "        vertical-align: middle;\n",
       "    }\n",
       "\n",
       "    .dataframe tbody tr th {\n",
       "        vertical-align: top;\n",
       "    }\n",
       "\n",
       "    .dataframe thead th {\n",
       "        text-align: right;\n",
       "    }\n",
       "</style>\n",
       "<table border=\"1\" class=\"dataframe\">\n",
       "  <thead>\n",
       "    <tr style=\"text-align: right;\">\n",
       "      <th></th>\n",
       "      <th>Country name</th>\n",
       "      <th>score</th>\n",
       "      <th>Log GDP per capita</th>\n",
       "      <th>Social support</th>\n",
       "      <th>Healthy life expectancy</th>\n",
       "      <th>Freedom to make life choices</th>\n",
       "      <th>Generosity</th>\n",
       "      <th>Perceptions of corruption</th>\n",
       "      <th>Dystopia + residual</th>\n",
       "      <th>Happiness Category</th>\n",
       "    </tr>\n",
       "  </thead>\n",
       "  <tbody>\n",
       "    <tr>\n",
       "      <th>1</th>\n",
       "      <td>Denmark</td>\n",
       "      <td>7.583</td>\n",
       "      <td>1.908</td>\n",
       "      <td>1.520</td>\n",
       "      <td>0.699</td>\n",
       "      <td>0.823</td>\n",
       "      <td>0.204</td>\n",
       "      <td>0.548</td>\n",
       "      <td>1.881</td>\n",
       "      <td>High</td>\n",
       "    </tr>\n",
       "    <tr>\n",
       "      <th>2</th>\n",
       "      <td>Iceland</td>\n",
       "      <td>7.525</td>\n",
       "      <td>1.881</td>\n",
       "      <td>1.617</td>\n",
       "      <td>0.718</td>\n",
       "      <td>0.819</td>\n",
       "      <td>0.258</td>\n",
       "      <td>0.182</td>\n",
       "      <td>2.050</td>\n",
       "      <td>High</td>\n",
       "    </tr>\n",
       "    <tr>\n",
       "      <th>0</th>\n",
       "      <td>Finland</td>\n",
       "      <td>7.741</td>\n",
       "      <td>1.844</td>\n",
       "      <td>1.572</td>\n",
       "      <td>0.695</td>\n",
       "      <td>0.859</td>\n",
       "      <td>0.142</td>\n",
       "      <td>0.546</td>\n",
       "      <td>2.082</td>\n",
       "      <td>High</td>\n",
       "    </tr>\n",
       "  </tbody>\n",
       "</table>\n",
       "</div>"
      ],
      "text/plain": [
       "  Country name  score  Log GDP per capita  Social support  \\\n",
       "1      Denmark  7.583               1.908           1.520   \n",
       "2      Iceland  7.525               1.881           1.617   \n",
       "0      Finland  7.741               1.844           1.572   \n",
       "\n",
       "   Healthy life expectancy  Freedom to make life choices  Generosity  \\\n",
       "1                    0.699                         0.823       0.204   \n",
       "2                    0.718                         0.819       0.258   \n",
       "0                    0.695                         0.859       0.142   \n",
       "\n",
       "   Perceptions of corruption  Dystopia + residual Happiness Category  \n",
       "1                      0.548                1.881               High  \n",
       "2                      0.182                2.050               High  \n",
       "0                      0.546                2.082               High  "
      ]
     },
     "execution_count": 31,
     "metadata": {},
     "output_type": "execute_result"
    }
   ],
   "source": [
    "sorted_df = filtered_df.sort_values( by='Log GDP per capita', ascending = False)\n",
    "\n",
    "print(\"\\nTop 10 countries sorted by GDP per Capita in descending order:\")\n",
    "sorted_df.head(10)"
   ]
  },
  {
   "cell_type": "markdown",
   "id": "9af38b0d-de17-4205-8bc7-887f2cdd935e",
   "metadata": {},
   "source": [
    "## Adding New Columns:"
   ]
  },
  {
   "cell_type": "markdown",
   "id": "49472a06-967e-4ba2-b4dd-2fc567d892e9",
   "metadata": {},
   "source": [
    "## Adding happiness Column:"
   ]
  },
  {
   "cell_type": "code",
   "execution_count": 14,
   "id": "8559b23b-3321-4b0d-8fc0-b820ee665476",
   "metadata": {},
   "outputs": [
    {
     "name": "stdout",
     "output_type": "stream",
     "text": [
      "\n",
      "Dataset with Happiness Category:\n",
      "  Country name  score Happiness Category\n",
      "0      Finland  7.741               High\n",
      "1      Denmark  7.583               High\n",
      "2      Iceland  7.525               High\n",
      "3       Sweden  7.344               High\n",
      "4       Israel  7.341               High\n"
     ]
    }
   ],
   "source": [
    "def happiness_category(score):\n",
    "    if score < 4:\n",
    "        return \"Low\"\n",
    "    elif 4 <= score <= 6:\n",
    "        return \"Medium\"\n",
    "    else:\n",
    "        return \"High\"\n",
    "\n",
    "df['Happiness Category'] = df['score'].apply(happiness_category)\n",
    "\n",
    "print(\"\\nDataset with Happiness Category:\")\n",
    "print(df[['Country name', 'score', 'Happiness Category']].head())"
   ]
  },
  {
   "cell_type": "markdown",
   "id": "f9861018-481e-4c97-afef-24099af02cc4",
   "metadata": {},
   "source": [
    "# Data Visualizations"
   ]
  },
  {
   "cell_type": "markdown",
   "id": "4b01ebfa-f620-4076-ad2e-5b18952c3954",
   "metadata": {},
   "source": [
    "## Top 10 happiest countries by Score using a bar chart"
   ]
  },
  {
   "cell_type": "code",
   "execution_count": 15,
   "id": "e63b0eef-f1e0-4ef5-8baf-90707464a18c",
   "metadata": {},
   "outputs": [
    {
     "data": {
      "image/png": "[encoded data removed]",
      "text/plain": [
       "<Figure size 1000x600 with 1 Axes>"
      ]
     },
     "metadata": {},
     "output_type": "display_data"
    }
   ],
   "source": [
    "top_10_happiest = df.sort_values(by='score', ascending=False).head(10)\n",
    "\n",
    "plt.figure(figsize=(10, 6))\n",
    "sns.barplot(x='score', y='Country name', data=top_10_happiest, color='skyblue')\n",
    "plt.title('Top 10 Happiest Countries by Score')\n",
    "plt.xlabel('Happiness Score')\n",
    "plt.ylabel('Country')\n",
    "plt.show()"
   ]
  },
  {
   "cell_type": "markdown",
   "id": "d2a18566-0954-4abb-b9c3-25d286d5d766",
   "metadata": {},
   "source": [
    "## Top 10 unhappiest countries by Score using a Line chart"
   ]
  },
  {
   "cell_type": "code",
   "execution_count": 16,
   "id": "86806a23-6809-4cef-a45b-c88696d2e177",
   "metadata": {},
   "outputs": [
    {
     "data": {
      "image/png": "[encoded data removed]",
      "text/plain": [
       "<Figure size 1000x600 with 1 Axes>"
      ]
     },
     "metadata": {},
     "output_type": "display_data"
    }
   ],
   "source": [
    "top_10_unhappiest = df.sort_values(by='score', ascending=True).head(10)\n",
    "\n",
    "plt.figure(figsize=(10, 6))\n",
    "sns.lineplot(x='Country name', y='score', data=top_10_unhappiest, marker='o', color='red')\n",
    "plt.title('Top 10 Unhappiest Countries by Score')\n",
    "plt.xlabel('Country')\n",
    "plt.ylabel('Happiness Score')\n",
    "plt.xticks(rotation=45)\n",
    "plt.show()"
   ]
  },
  {
   "cell_type": "markdown",
   "id": "d7a0a932-02e8-45d6-89ba-9aebd4cbac0e",
   "metadata": {},
   "source": [
    "## Score column to show its distribution"
   ]
  },
  {
   "cell_type": "code",
   "execution_count": 17,
   "id": "1f181c8e-e757-4b8a-828f-129c68e295aa",
   "metadata": {},
   "outputs": [
    {
     "data": {
      "image/png": "[encoded data removed]",
      "text/plain": [
       "<Figure size 1000x600 with 1 Axes>"
      ]
     },
     "metadata": {},
     "output_type": "display_data"
    }
   ],
   "source": [
    "plt.figure(figsize=(10, 6))\n",
    "sns.histplot(df['score'], bins=20, kde=True, color='blue')\n",
    "plt.title('Distribution of Happiness Scores')\n",
    "plt.xlabel('Happiness Score')\n",
    "plt.ylabel('Frequency')\n",
    "plt.show()"
   ]
  },
  {
   "cell_type": "markdown",
   "id": "bb669646-1b6d-4b19-b269-845419987eba",
   "metadata": {},
   "source": [
    "## Scatter plot between GDP per Capita and Score to visualize their relationship"
   ]
  },
  {
   "cell_type": "code",
   "execution_count": 18,
   "id": "2220bbe5-c8cd-4d10-88d2-bbfa663edabf",
   "metadata": {},
   "outputs": [
    {
     "data": {
      "image/png": "[encoded data removed]",
      "text/plain": [
       "<Figure size 1000x600 with 1 Axes>"
      ]
     },
     "metadata": {},
     "output_type": "display_data"
    }
   ],
   "source": [
    "plt.figure(figsize=(10, 6))\n",
    "sns.scatterplot(x='Log GDP per capita', y='score', data=df, color='green')\n",
    "plt.title('Scatter Plot between GDP per Capita and Happiness Score')\n",
    "plt.xlabel('Log GDP per Capita')\n",
    "plt.ylabel('Happiness Score')\n",
    "plt.show()"
   ]
  },
  {
   "cell_type": "markdown",
   "id": "e6325a42-37c2-42c7-8dd4-7fba9702db77",
   "metadata": {},
   "source": [
    "# Advanced Data Exploration:"
   ]
  },
  {
   "cell_type": "markdown",
   "id": "64857c2e-796a-4243-a47c-20ce5601964a",
   "metadata": {},
   "source": [
    "## Filtering Data and Creating new CSV file "
   ]
  },
  {
   "cell_type": "code",
   "execution_count": 19,
   "id": "a1db2acd-0cfc-4df8-b8b9-f09660b2b1ea",
   "metadata": {},
   "outputs": [
    {
     "name": "stdout",
     "output_type": "stream",
     "text": [
      "    Country name  score  Log GDP per capita  Social support  \\\n",
      "92         Nepal  5.158               0.965           0.990   \n",
      "107     Pakistan  4.657               1.069           0.600   \n",
      "125        India  4.054               1.166           0.653   \n",
      "128   Bangladesh  3.886               1.122           0.249   \n",
      "142  Afghanistan  1.721               0.628           0.000   \n",
      "\n",
      "     Healthy life expectancy  Freedom to make life choices  Generosity  \\\n",
      "92                     0.443                         0.653       0.209   \n",
      "107                    0.321                         0.542       0.144   \n",
      "125                    0.417                         0.767       0.174   \n",
      "128                    0.513                         0.775       0.140   \n",
      "142                    0.242                         0.000       0.091   \n",
      "\n",
      "     Perceptions of corruption  Dystopia + residual Happiness Category  \n",
      "92                       0.115                1.783             Medium  \n",
      "107                      0.074                1.907             Medium  \n",
      "125                      0.122                0.756             Medium  \n",
      "128                      0.167                0.919                Low  \n",
      "142                      0.088                0.672                Low  \n"
     ]
    }
   ],
   "source": [
    "south_asian_countries = [\"Afghanistan\", \"Bangladesh\", \"Bhutan\", \"India\", \"Maldives\", \"Nepal\", \"Pakistan\", \"Srilanka\"]\n",
    "south_asian_df = df[df['Country name'].isin(south_asian_countries)]\n",
    "south_asian_df.to_csv('south_asian_happiness_data.csv', index=False)\n",
    "print(south_asian_df.head())"
   ]
  },
  {
   "cell_type": "markdown",
   "id": "369b9b90-e45d-4bdb-94fe-5ccde5f962e0",
   "metadata": {},
   "source": [
    "## Composite Score Ranking:"
   ]
  },
  {
   "cell_type": "code",
   "execution_count": 33,
   "id": "372099da-15f8-4d1d-8a9b-6da27cf3ce4b",
   "metadata": {},
   "outputs": [
    {
     "data": {
      "image/png": "[encoded data removed]",
      "text/plain": [
       "<Figure size 1000x600 with 1 Axes>"
      ]
     },
     "metadata": {},
     "output_type": "display_data"
    }
   ],
   "source": [
    "# Composite Score\n",
    "south_asian_df.loc['Composite Score'] = (0.40 * south_asian_df['Log GDP per capita'] +\n",
    "                                            0.30 * south_asian_df['Social support'] +\n",
    "                                            0.30 * south_asian_df['Healthy life expectancy'])\n",
    "# Ranking based on the Composite Score (descending)\n",
    "south_asian_df = south_asian_df.sort_values(by='Composite Score', ascending=False)\n",
    "\n",
    "#Visulization of top 5 countries using horizontal bar graph\n",
    "top_5_composite_score = south_asian_df.head(5)\n",
    "\n",
    "plt.figure(figsize=(10, 6))\n",
    "sns.barplot(x='Composite Score', y='Country name', data=top_5_composite_score, color='skyblue')\n",
    "plt.title('Top 5 South Asian Countries by Composite Score')\n",
    "plt.xlabel('Composite Score')\n",
    "plt.ylabel('Country')\n",
    "plt.show()\n"
   ]
  },
  {
   "cell_type": "code",
   "execution_count": null,
   "id": "e21051f3-0464-4878-9108-cdd94ca820af",
   "metadata": {},
   "outputs": [],
   "source": [
    "# visual comparision between original score and composite score\n",
    "sns.barplot(x='Composite Score', y='Country name', data=top_5_composite_score, color='blue', label='Composite Score')\n",
    "sns.barplot(x='score', y='Country name', data=top_5_composite_score, color='orange', label='Original Score')\n",
    "plt.title('Comparison of Composite Score vs Original Score for Top 5 Countries')\n",
    "plt.xlabel('Score')\n",
    "plt.ylabel('Country')\n",
    "plt.legend()\n",
    "plt.show()"
   ]
  },
  {
   "cell_type": "markdown",
   "id": "b833de9a-c848-4f00-b5af-56273d12987c",
   "metadata": {},
   "source": [
    "## Outlier Detection:"
   ]
  },
  {
   "cell_type": "code",
   "execution_count": null,
   "id": "bf6ffba8-9544-4913-86e9-7e75e1fb9754",
   "metadata": {},
   "outputs": [],
   "source": [
    "# Identification of South Asian Countries\n",
    "Q1_score = south_asian_df['score'].quantile(0.25)\n",
    "Q3_score = south_asian_df['score'].quantile(0.75)\n",
    "IQR_score = Q3_score - Q1_score\n",
    "\n",
    "Q1_gdp = south_asian_df['Log GDP per capita'].quantile(0.25)\n",
    "Q3_gdp = south_asian_df['Log GDP per capita'].quantile(0.75)\n",
    "IQR_gdp = Q3_gdp - Q1_gdp\n",
    "\n",
    "#Defining outliers using 1.5 * IQR rule\n",
    "score_outliers = south_asian_df[(south_asian_df['score'] < (Q1_score - 1.5 * IQR_score)) |\n",
    "                                (south_asian_df['score'] > (Q3_score + 1.5 * IQR_score))]\n",
    "\n",
    "gdp_outliers = south_asian_df[(south_asian_df['Log GDP per capita'] < (Q1_gdp - 1.5 * IQR_gdp)) |\n",
    "                               (south_asian_df['Log GDP per capita'] > (Q3_gdp + 1.5 * IQR_gdp))]\n",
    "\n",
    "outliers = pd.concat([score_outliers, gdp_outliers]).drop_duplicates()\n",
    "\n",
    "#Scatter Plot to highlight outliers\n",
    "plt.figure(figsize=(10, 6))\n",
    "sns.scatterplot(x='Log GDP per capita', y='score', data=south_asian_df, color='blue', label='Non-Outliers')\n",
    "sns.scatterplot(x='Log GDP per capita', y='score', data=outliers, color='red', label='Outliers')\n",
    "plt.title('Scatter Plot: GDP per Capita vs Score with Outliers Highlighted')\n",
    "plt.xlabel('Log GDP per capita')\n",
    "plt.ylabel('Score')\n",
    "plt.legend()\n",
    "plt.show()"
   ]
  },
  {
   "cell_type": "markdown",
   "id": "fe953b59-0d39-40ec-ba11-2442980a7351",
   "metadata": {},
   "source": [
    "# Exploring Trend Across Metrics:"
   ]
  },
  {
   "cell_type": "code",
   "execution_count": null,
   "id": "6fe2a0c1-9a38-4428-a076-3a5023e33d92",
   "metadata": {},
   "outputs": [],
   "source": [
    "# Choosing two metrics and calculating their Pearson correlation \n",
    "freedom_corr = south_asian_df['Freedom to make life choices'].corr(south_asian_df['score'])\n",
    "generosity_corr = south_asian_df['Generosity'].corr(south_asian_df['score'])\n",
    "\n",
    "print(f\"Pearson correlation between Freedom to Make Life Choices and Score: {freedom_corr}\")\n",
    "print(f\"Pearson correlation between Generosity and Score: {generosity_corr}\")\n",
    "\n",
    "# Create scatter plots with trendlines for these metrics against the Score\n",
    "plt.figure(figsize=(10, 6))\n",
    "sns.regplot(x='Freedom to make life choices', y='score', data=south_asian_df, scatter_kws={'color':'blue'}, line_kws={'color':'red'})\n",
    "plt.title('Scatter Plot: Freedom to Make Life Choices vs Score')\n",
    "plt.xlabel('Freedom to Make Life Choices')\n",
    "plt.ylabel('Score')\n",
    "plt.show()\n",
    "\n",
    "plt.figure(figsize=(10, 6))\n",
    "sns.regplot(x='Generosity', y='score', data=south_asian_df, scatter_kws={'color':'green'}, line_kws={'color':'red'})\n",
    "plt.title('Scatter Plot: Generosity vs Score')\n",
    "plt.xlabel('Generosity')\n",
    "plt.ylabel('Score')\n",
    "plt.show()"
   ]
  },
  {
   "cell_type": "markdown",
   "id": "a5eac2f7-0f63-49f8-9dec-1f4eedf23e71",
   "metadata": {},
   "source": [
    "# Gap Analysis:"
   ]
  },
  {
   "cell_type": "code",
   "execution_count": null,
   "id": "c962a3f2-005d-4d9e-bd81-3a8078491e29",
   "metadata": {},
   "outputs": [],
   "source": [
    "# Adding GDP-Score Gap as new column\n",
    "south_asian_df['GDP-Score Gap'] = south_asian_df['Log GDP per capita'] - south_asian_df['score']\n",
    "\n",
    "# Ranking Asian countries based on the calculated gap\n",
    "ascending_gap = south_asian_df[['Country name', 'GDP-Score Gap']].sort_values(by='GDP-Score Gap', ascending=True)\n",
    "descending_gap = south_asian_df[['Country name', 'GDP-Score Gap']].sort_values(by='GDP-Score Gap', ascending=False)\n",
    "\n",
    "# Visualizing the top 3 countries with largest gaps\n",
    "top_3_positive_gap = descending_gap.head(3)\n",
    "top_3_negative_gap = ascending_gap.head(3)\n",
    "\n",
    "plt.figure(figsize=(10, 6))\n",
    "sns.barplot(x='GDP-Score Gap', y='Country name', data=top_3_positive_gap)\n",
    "plt.title('Top 3 Countries with Largest Positive GDP-Score Gap')\n",
    "plt.xlabel('GDP-Score Gap')\n",
    "plt.ylabel('Country')\n",
    "plt.show()\n",
    "\n",
    "plt.figure(figsize=(10, 6))\n",
    "sns.barplot(x='GDP-Score Gap', y='Country name', data=top_3_negative_gap)\n",
    "plt.title('Top 3 Countries with Largest Negative GDP-Score Gap')\n",
    "plt.xlabel('GDP-Score Gap')\n",
    "plt.ylabel('Country')\n",
    "plt.show()"
   ]
  },
  {
   "cell_type": "markdown",
   "id": "9b1a9880-1119-4b82-a11a-032b43837e5b",
   "metadata": {},
   "source": [
    "# Comparative Analysis:"
   ]
  },
  {
   "cell_type": "code",
   "execution_count": null,
   "id": "4f735608-265f-4331-96c3-2ef5579b647c",
   "metadata": {},
   "outputs": [],
   "source": [
    "# Setting up Middle Eastern dataset\n",
    "middle_east_countries = [\n",
    "    \"Bahrain\", \"Iran\", \"Iraq\", \"Israel\", \"Jordan\",\n",
    "    \"Kuwait\", \"Lebanon\", \"Oman\", \"Palestine\", \"Qatar\", \n",
    "    \"Saudi Arabia\", \"Syria\", \"United Arab Emirates\", \"Yemen\"\n",
    "]\n",
    "\n",
    "middle_east_df = df[df['Country name'].isin(middle_east_countries)]\n",
    "\n",
    "middle_east_df.to_csv(\"middle_east_data.csv\", index=False)\n",
    "\n",
    "print(middle_east_df.head())"
   ]
  },
  {
   "cell_type": "markdown",
   "id": "60612d49-1d31-4391-a50c-69ff48b0ea8c",
   "metadata": {},
   "source": [
    "## Descriptive Statistics:"
   ]
  },
  {
   "cell_type": "code",
   "execution_count": null,
   "id": "3fbf4da4-5a78-4db6-93b9-8274ca893a70",
   "metadata": {},
   "outputs": [],
   "source": [
    "# Calculating Mean, Standard deviation for both South Asian and Middle Eastern dataset\n",
    "south_asia_mean = south_asian_df['score'].mean()\n",
    "south_asia_std = south_asian_df['score'].std()\n",
    "\n",
    "middle_east_mean = middle_east_df['score'].mean()\n",
    "middle_east_std = middle_east_df['score'].std()\n",
    "\n",
    "print(f\"South Asia - Mean: {south_asia_mean}, Standard Deviation: {south_asia_std}\")\n",
    "print(f\"Middle East - Mean: {middle_east_mean}, Standard Deviation: {middle_east_std}\")\n",
    "\n",
    "# Comparing the mean values\n",
    "if south_asia_mean > middle_east_mean:\n",
    "    print(\"South Asia has a higher average happiness score.\")\n",
    "else:\n",
    "    print(\"Middle East has a higher average happiness score.\")"
   ]
  },
  {
   "cell_type": "markdown",
   "id": "7854cdf9-04eb-44c2-9942-1e24a8e24e4e",
   "metadata": {},
   "source": [
    "## Top and Botom Performers:"
   ]
  },
  {
   "cell_type": "code",
   "execution_count": null,
   "id": "0f91d8fb-210a-42bd-b4d3-0d76e514c4c2",
   "metadata": {},
   "outputs": [],
   "source": [
    "# Identifying top and bottom 3 countries\n",
    "south_asia_top_3 = south_asian_df[['Country name', 'score']].sort_values(by='score', ascending=False).head(3)\n",
    "south_asia_bottom_3 = south_asian_df[['Country name', 'score']].sort_values(by='score').head(3)\n",
    "\n",
    "middle_east_top_3 = middle_east_df[['Country name', 'score']].sort_values(by='score', ascending=False).head(3)\n",
    "middle_east_bottom_3 = middle_east_df[['Country name', 'score']].sort_values(by='score').head(3)\n",
    "\n",
    "# Visualizing Comparisions\n",
    "plt.figure(figsize=(12, 6))\n",
    "\n",
    "#Southasian Dataside\n",
    "plt.subplot(1, 2, 1)\n",
    "sns.barplot(x='score', y='Country name', data=south_asia_top_3, hue='Country name', palette='Blues', legend=False)\n",
    "plt.title('Top 3 Countries in South Asia by Score')\n",
    "\n",
    "plt.subplot(1, 2, 2)\n",
    "sns.barplot(x='score', y='Country name', data=south_asia_bottom_3, hue='Country name', palette='Reds', legend=False)\n",
    "plt.title('Bottom 3 Countries in South Asia by Score')\n",
    "\n",
    "plt.tight_layout()\n",
    "plt.show()\n",
    "\n",
    "plt.figure(figsize=(12, 6))\n",
    "\n",
    "#Middle-eastern dataset\n",
    "plt.subplot(1, 2, 1)\n",
    "sns.barplot(x='score', y='Country name', data=middle_east_top_3, hue='Country name', palette='Blues', legend=False)\n",
    "plt.title('Top 3 Countries in Middle East by Score')\n",
    "\n",
    "plt.subplot(1, 2, 2)\n",
    "sns.barplot(x='score', y='Country name', data=middle_east_bottom_3, hue='Country name', palette='Reds', legend=False)\n",
    "plt.title('Bottom 3 Countries in Middle East by Score')\n",
    "\n",
    "plt.tight_layout()\n",
    "plt.show()"
   ]
  },
  {
   "cell_type": "markdown",
   "id": "640b9871-a432-43de-a957-226ba4848e01",
   "metadata": {},
   "source": [
    "## Metric Comparisons:"
   ]
  },
  {
   "cell_type": "code",
   "execution_count": null,
   "id": "1e32a4c8-0139-40fc-8ea5-beb39f4201b4",
   "metadata": {},
   "outputs": [],
   "source": [
    "# Comparing key metrics using bar graphs\n",
    "metrics = ['Log GDP per capita', 'Social support', 'Healthy life expectancy']\n",
    "\n",
    "south_asia_metrics = south_asian_df[['Country name'] + metrics].melt(id_vars='Country name', value_vars=metrics, var_name='Metric', value_name='Value')\n",
    "middle_east_metrics = middle_east_df[['Country name'] + metrics].melt(id_vars='Country name', value_vars=metrics, var_name='Metric', value_name='Value')\n",
    "\n",
    "south_asia_metrics['Region'] = 'South Asia'\n",
    "middle_east_metrics['Region'] = 'Middle East'\n",
    "\n",
    "comparison_df = pd.concat([south_asia_metrics, middle_east_metrics]).reset_index(drop=True)\n",
    "\n",
    "plt.figure(figsize=(12, 6))\n",
    "sns.barplot(x='Metric', y='Value', hue='Region', data=comparison_df, palette='Set2')\n",
    "\n",
    "plt.title('Comparison of Key Metrics Between South Asia and Middle East')\n",
    "plt.xlabel('Metric')\n",
    "plt.ylabel('Value')\n",
    "plt.tight_layout()\n",
    "plt.show()\n",
    "\n",
    "\n",
    "\n"
   ]
  },
  {
   "cell_type": "markdown",
   "id": "107b52aa-d369-4e14-94f7-ca635439626e",
   "metadata": {},
   "source": [
    "## Happiness Disparity:"
   ]
  },
  {
   "cell_type": "code",
   "execution_count": null,
   "id": "4441ac8f-48e1-4ec9-8033-5df5089bad2e",
   "metadata": {},
   "outputs": [],
   "source": [
    "# Comparing the rnage and cofficient of variation:\n",
    "south_asia_score_range = south_asian_df['score'].max() - south_asian_df['score'].min()\n",
    "middle_east_score_range = middle_east_df['score'].max() - middle_east_df['score'].min()\n",
    "\n",
    "south_asia_cv = south_asian_df['score'].std() / south_asian_df['score'].mean()\n",
    "middle_east_cv = middle_east_df['score'].std() / middle_east_df['score'].mean()\n",
    "\n",
    "print(f\"South Asia Score Range: {south_asia_score_range}\")\n",
    "print(f\"Middle East Score Range: {middle_east_score_range}\")\n",
    "print(f\"South Asia Coefficient of Variation (CV): {south_asia_cv}\")\n",
    "print(f\"Middle East Coefficient of Variation (CV): {middle_east_cv}\")"
   ]
  },
  {
   "cell_type": "markdown",
   "id": "d12c5179-8ab0-48bb-bd8f-cc6cea978ef0",
   "metadata": {},
   "source": [
    "## Correlation Analysis:"
   ]
  },
  {
   "cell_type": "code",
   "execution_count": null,
   "id": "5a7d7cc6-4c58-4a58-9cc5-b6b3953e66dd",
   "metadata": {},
   "outputs": [],
   "source": [
    "# Comparing the score within regions\n",
    "south_asia_corr = south_asian_df[['score', 'Freedom to make life choices', 'Generosity']].corr()\n",
    "middle_east_corr = middle_east_df[['score', 'Freedom to make life choices', 'Generosity']].corr()\n",
    "\n",
    "print(\"South Asia Correlation Matrix:\")\n",
    "print(south_asia_corr)\n",
    "print(\"\\nMiddle East Correlation Matrix:\")\n",
    "print(middle_east_corr)\n",
    "\n",
    "# Visualizing the relaitions\n",
    "plt.figure(figsize=(12, 6))\n",
    "\n",
    "# South Asia\n",
    "plt.subplot(1, 2, 1)\n",
    "sns.scatterplot(x='Freedom to make life choices', y='score', data=south_asian_df)\n",
    "plt.title('South Asia: Freedom to Make Life Choices vs Score')\n",
    "plt.xlabel('Freedom to Make Life Choices')\n",
    "plt.ylabel('Score')\n",
    "\n",
    "plt.subplot(1, 2, 2)\n",
    "sns.scatterplot(x='Generosity', y='score', data=south_asian_df)\n",
    "plt.title('South Asia: Generosity vs Score')\n",
    "plt.xlabel('Generosity')\n",
    "plt.ylabel('Score')\n",
    "\n",
    "# Middle East\n",
    "plt.figure(figsize=(12, 6))\n",
    "\n",
    "plt.subplot(1, 2, 1)\n",
    "sns.scatterplot(x='Freedom to make life choices', y='score', data=middle_east_df)\n",
    "plt.title('Middle East: Freedom to Make Life Choices vs Score')\n",
    "plt.xlabel('Freedom to Make Life Choices')\n",
    "plt.ylabel('Score')\n",
    "\n",
    "plt.subplot(1, 2, 2)\n",
    "sns.scatterplot(x='Generosity', y='score', data=middle_east_df)\n",
    "plt.title('Middle East: Generosity vs Score')\n",
    "plt.xlabel('Generosity')\n",
    "plt.ylabel('Score')\n",
    "\n",
    "plt.tight_layout()\n",
    "plt.show()"
   ]
  },
  {
   "cell_type": "markdown",
   "id": "3fe47e4c-03a6-4a8e-a042-981a4a131a8f",
   "metadata": {},
   "source": [
    "## Outlier Detection:"
   ]
  },
  {
   "cell_type": "code",
   "execution_count": null,
   "id": "81929d35-ce22-4229-964c-b8c379dbfd79",
   "metadata": {},
   "outputs": [],
   "source": [
    "# Identifying outlieer countries in both regions based on score and GDP / capita\n",
    "south_asia_outliers_score = south_asian_df[(south_asian_df['score'] < south_asian_df['score'].quantile(0.25) - 1.5 * (south_asian_df['score'].quantile(0.75) - south_asian_df['score'].quantile(0.25))) | \n",
    "                                            (south_asian_df['score'] > south_asian_df['score'].quantile(0.75) + 1.5 * (south_asian_df['score'].quantile(0.75) - south_asian_df['score'].quantile(0.25)))]\n",
    "\n",
    "south_asia_outliers_gdp = south_asian_df[(south_asian_df['Log GDP per capita'] < south_asian_df['Log GDP per capita'].quantile(0.25) - 1.5 * (south_asian_df['Log GDP per capita'].quantile(0.75) - south_asian_df['Log GDP per capita'].quantile(0.25))) | \n",
    "                                           (south_asian_df['Log GDP per capita'] > south_asian_df['Log GDP per capita'].quantile(0.75) + 1.5 * (south_asian_df['Log GDP per capita'].quantile(0.75) - south_asian_df['Log GDP per capita'].quantile(0.25)))]\n",
    "\n",
    "middle_east_outliers_score = middle_east_df[(middle_east_df['score'] < middle_east_df['score'].quantile(0.25) - 1.5 * (middle_east_df['score'].quantile(0.75) - middle_east_df['score'].quantile(0.25))) | \n",
    "                                             (middle_east_df['score'] > middle_east_df['score'].quantile(0.75) + 1.5 * (middle_east_df['score'].quantile(0.75) - middle_east_df['score'].quantile(0.25)))]\n",
    "\n",
    "middle_east_outliers_gdp = middle_east_df[(middle_east_df['Log GDP per capita'] < middle_east_df['Log GDP per capita'].quantile(0.25) - 1.5 * (middle_east_df['Log GDP per capita'].quantile(0.75) - middle_east_df['Log GDP per capita'].quantile(0.25))) | \n",
    "                                            (middle_east_df['Log GDP per capita'] > middle_east_df['Log GDP per capita'].quantile(0.75) + 1.5 * (middle_east_df['Log GDP per capita'].quantile(0.75) - middle_east_df['Log GDP per capita'].quantile(0.25)))]\n",
    "\n",
    "# Visualizing outliers\n",
    "plt.figure(figsize=(14, 7))\n",
    "\n",
    "plt.subplot(1, 2, 1)\n",
    "sns.boxplot(x=south_asian_df['score'])\n",
    "plt.title('South Asia: Outliers in Score')\n",
    "\n",
    "plt.subplot(1, 2, 2)\n",
    "sns.boxplot(x=south_asian_df['Log GDP per capita'])\n",
    "plt.title('South Asia: Outliers in GDP per Capita')\n",
    "\n",
    "plt.tight_layout()\n",
    "plt.show()\n",
    "\n",
    "plt.figure(figsize=(14, 7))\n",
    "\n",
    "plt.subplot(1, 2, 1)\n",
    "sns.boxplot(x=middle_east_df['score'])\n",
    "plt.title('Middle East: Outliers in Score')\n",
    "\n",
    "plt.subplot(1, 2, 2)\n",
    "sns.boxplot(x=middle_east_df['Log GDP per capita'])\n",
    "plt.title('Middle East: Outliers in GDP per Capita')\n",
    "\n",
    "plt.tight_layout()\n",
    "plt.show()\n",
    "\n",
    "south_asia_outliers_score[['Country name', 'score']]\n",
    "south_asia_outliers_gdp[['Country name', 'Log GDP per capita']]\n",
    "middle_east_outliers_score[['Country name', 'score']]\n",
    "middle_east_outliers_gdp[['Country name', 'Log GDP per capita']]"
   ]
  },
  {
   "cell_type": "markdown",
   "id": "147cce1b-2c88-4eab-8f74-f64cee5530db",
   "metadata": {},
   "source": [
    "## Visualization"
   ]
  },
  {
   "cell_type": "code",
   "execution_count": null,
   "id": "3ca47d8d-cad6-474e-9a25-bdfc02fde94f",
   "metadata": {},
   "outputs": [],
   "source": [
    "# boxplots comparing the distribution of Score between South Asia and the Middle East\n",
    "plt.figure(figsize=(10, 6))\n",
    "sns.boxplot(x='Region', y='score', data=pd.concat([south_asian_df.assign(Region='South Asia'), middle_east_df.assign(Region='Middle East')]))\n",
    "plt.title('Distribution of Score: South Asia vs Middle East')\n",
    "plt.xlabel('Region')\n",
    "plt.ylabel('Score')\n",
    "plt.show()"
   ]
  }
 ],
 "metadata": {
  "kernelspec": {
   "display_name": "Python 3 (ipykernel)",
   "language": "python",
   "name": "python3"
  },
  "language_info": {
   "codemirror_mode": {
    "name": "ipython",
    "version": 3
   },
   "file_extension": ".py",
   "mimetype": "text/x-python",
   "name": "python",
   "nbconvert_exporter": "python",
   "pygments_lexer": "ipython3",
   "version": "3.12.2"
  }
 },
 "nbformat": 4,
 "nbformat_minor": 5
}
